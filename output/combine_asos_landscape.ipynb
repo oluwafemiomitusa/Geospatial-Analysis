{
 "cells": [
  {
   "cell_type": "code",
   "execution_count": null,
   "metadata": {},
   "outputs": [],
   "source": [
    "import pandas as pd\n",
    "\n",
    "# Load the spatial data\n",
    "spatial_data = pd.read_csv('combined_data.csv')\n",
    "\n",
    "# Load the temporal data\n",
    "temporal_data = pd.read_csv('station1.csv')\n",
    "\n",
    "# Add a new column \"Station\" to the temporal data and set its value to 1\n",
    "# This is because all data in the 'station1.csv' file corresponds to station 1\n",
    "temporal_data['Station'] = 1\n",
    "\n",
    "# Merge the spatial and temporal data on the \"Station\" column\n",
    "# This will combine each row from the spatial data with each row from the\n",
    "# temporal data that has the same station number\n",
    "merged_data = pd.merge(spatial_data, temporal_data, on=\"Station\")\n",
    "\n",
    "# Display the first few rows of the merged data\n",
    "print(merged_data.head())\n"
   ]
  }
 ],
 "metadata": {
  "language_info": {
   "name": "python"
  },
  "orig_nbformat": 4
 },
 "nbformat": 4,
 "nbformat_minor": 2
}
