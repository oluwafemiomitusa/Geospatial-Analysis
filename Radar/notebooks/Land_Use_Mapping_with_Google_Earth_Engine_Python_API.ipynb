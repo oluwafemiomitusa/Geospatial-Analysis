{
  "nbformat": 4,
  "nbformat_minor": 0,
  "metadata": {
    "colab": {
      "provenance": [],
      "authorship_tag": "ABX9TyOgTQZZeFRVim3/opiU3qqn",
      "include_colab_link": true
    },
    "kernelspec": {
      "name": "python3",
      "display_name": "Python 3"
    },
    "language_info": {
      "name": "python"
    },
    "widgets": {
      "application/vnd.jupyter.widget-state+json": {
        "be3994532685498885572903d18378f2": {
          "model_module": "jupyter-leaflet",
          "model_name": "LeafletMapModel",
          "model_module_version": "^0.17",
          "state": {
            "_dom_classes": [],
            "_model_module": "jupyter-leaflet",
            "_model_module_version": "^0.17",
            "_model_name": "LeafletMapModel",
            "_view_count": null,
            "_view_module": "jupyter-leaflet",
            "_view_module_version": "^0.17",
            "_view_name": "LeafletMapView",
            "bottom": 3430,
            "bounce_at_zoom_limits": true,
            "box_zoom": true,
            "center": [
              39.027718840211605,
              -97.27294921875001
            ],
            "close_popup_on_click": true,
            "controls": [
              "IPY_MODEL_64cb0bbcd06543f49b711be62944d8d7",
              "IPY_MODEL_b647d5de83c147ed8ad3f289a9ce0d06",
              "IPY_MODEL_bbf3860d86ba4aeda7abb0ec2cd93503",
              "IPY_MODEL_e1e4877bc9fe47ceb952d17f0a44a8b1",
              "IPY_MODEL_49c3ae6d37c744d6825ca02b9f301ab3",
              "IPY_MODEL_e1dace22f9d04f4f9859ffbd9f36aa83",
              "IPY_MODEL_8272a7b06ef2484999f2f0309c53e08f",
              "IPY_MODEL_c2a09f2e60504c27825d42955af0a27c",
              "IPY_MODEL_afaaba47f60447539c5662a4ed3c88e5"
            ],
            "crs": {
              "name": "EPSG3857",
              "custom": false
            },
            "default_style": "IPY_MODEL_8fd2b4d5ca1b45e8b0a87c1e8abcddde",
            "double_click_zoom": true,
            "dragging": true,
            "dragging_style": "IPY_MODEL_10e23bc8cb354de28738c9516d84549f",
            "east": -66.97265625000001,
            "fullscreen": false,
            "inertia": true,
            "inertia_deceleration": 3000,
            "inertia_max_speed": 1500,
            "interpolation": "bilinear",
            "keyboard": true,
            "keyboard_pan_offset": 80,
            "keyboard_zoom_offset": 1,
            "layers": [
              "IPY_MODEL_162e2cc7230f43d1b519ada1fb862d2c",
              "IPY_MODEL_a5c67a1c162944d4afb42a92f97a5c45",
              "IPY_MODEL_5f6ddec69cf1442db9b35db75b12f684"
            ],
            "layout": "IPY_MODEL_d861d1190f804c16a03987d7d481d8bc",
            "left": 1193,
            "max_zoom": 24,
            "min_zoom": null,
            "modisdate": "2023-06-01",
            "north": 48.516604348867475,
            "options": [
              "bounce_at_zoom_limits",
              "box_zoom",
              "center",
              "close_popup_on_click",
              "double_click_zoom",
              "dragging",
              "fullscreen",
              "inertia",
              "inertia_deceleration",
              "inertia_max_speed",
              "interpolation",
              "keyboard",
              "keyboard_pan_offset",
              "keyboard_zoom_offset",
              "max_zoom",
              "min_zoom",
              "prefer_canvas",
              "scroll_wheel_zoom",
              "tap",
              "tap_tolerance",
              "touch_zoom",
              "world_copy_jump",
              "zoom",
              "zoom_animation_threshold",
              "zoom_delta",
              "zoom_snap"
            ],
            "panes": {},
            "prefer_canvas": false,
            "right": 2572,
            "scroll_wheel_zoom": true,
            "south": 28.07198030177986,
            "style": "IPY_MODEL_8fd2b4d5ca1b45e8b0a87c1e8abcddde",
            "tap": true,
            "tap_tolerance": 15,
            "top": 2830,
            "touch_zoom": true,
            "west": -127.57324218750001,
            "window_url": "https://cb1amwh4gji-496ff2e9c6d22116-0-colab.googleusercontent.com/outputframe.html?vrz=colab-20230531-060125-RC00_536671505",
            "world_copy_jump": false,
            "zoom": 5,
            "zoom_animation_threshold": 4,
            "zoom_delta": 1,
            "zoom_snap": 1
          }
        },
        "64cb0bbcd06543f49b711be62944d8d7": {
          "model_module": "jupyter-leaflet",
          "model_name": "LeafletWidgetControlModel",
          "model_module_version": "^0.17",
          "state": {
            "_model_module": "jupyter-leaflet",
            "_model_module_version": "^0.17",
            "_model_name": "LeafletWidgetControlModel",
            "_view_count": null,
            "_view_module": "jupyter-leaflet",
            "_view_module_version": "^0.17",
            "_view_name": "LeafletWidgetControlView",
            "max_height": null,
            "max_width": null,
            "min_height": null,
            "min_width": null,
            "options": [
              "position",
              "transparent_bg"
            ],
            "position": "topleft",
            "transparent_bg": false,
            "widget": "IPY_MODEL_92454781fef94a7692e0fa3b942bd51e"
          }
        },
        "b647d5de83c147ed8ad3f289a9ce0d06": {
          "model_module": "jupyter-leaflet",
          "model_name": "LeafletZoomControlModel",
          "model_module_version": "^0.17",
          "state": {
            "_model_module": "jupyter-leaflet",
            "_model_module_version": "^0.17",
            "_model_name": "LeafletZoomControlModel",
            "_view_count": null,
            "_view_module": "jupyter-leaflet",
            "_view_module_version": "^0.17",
            "_view_name": "LeafletZoomControlView",
            "options": [
              "position",
              "zoom_in_text",
              "zoom_in_title",
              "zoom_out_text",
              "zoom_out_title"
            ],
            "position": "topleft",
            "zoom_in_text": "+",
            "zoom_in_title": "Zoom in",
            "zoom_out_text": "-",
            "zoom_out_title": "Zoom out"
          }
        },
        "bbf3860d86ba4aeda7abb0ec2cd93503": {
          "model_module": "jupyter-leaflet",
          "model_name": "LeafletScaleControlModel",
          "model_module_version": "^0.17",
          "state": {
            "_model_module": "jupyter-leaflet",
            "_model_module_version": "^0.17",
            "_model_name": "LeafletScaleControlModel",
            "_view_count": null,
            "_view_module": "jupyter-leaflet",
            "_view_module_version": "^0.17",
            "_view_name": "LeafletScaleControlView",
            "imperial": true,
            "max_width": 100,
            "metric": true,
            "options": [
              "imperial",
              "max_width",
              "metric",
              "position",
              "update_when_idle"
            ],
            "position": "bottomleft",
            "update_when_idle": false
          }
        },
        "e1e4877bc9fe47ceb952d17f0a44a8b1": {
          "model_module": "jupyter-leaflet",
          "model_name": "LeafletFullScreenControlModel",
          "model_module_version": "^0.17",
          "state": {
            "_model_module": "jupyter-leaflet",
            "_model_module_version": "^0.17",
            "_model_name": "LeafletFullScreenControlModel",
            "_view_count": null,
            "_view_module": "jupyter-leaflet",
            "_view_module_version": "^0.17",
            "_view_name": "LeafletFullScreenControlView",
            "options": [
              "position"
            ],
            "position": "topleft"
          }
        },
        "49c3ae6d37c744d6825ca02b9f301ab3": {
          "model_module": "jupyter-leaflet",
          "model_name": "LeafletMeasureControlModel",
          "model_module_version": "^0.17",
          "state": {
            "_custom_units": {},
            "_model_module": "jupyter-leaflet",
            "_model_module_version": "^0.17",
            "_model_name": "LeafletMeasureControlModel",
            "_view_count": null,
            "_view_module": "jupyter-leaflet",
            "_view_module_version": "^0.17",
            "_view_name": "LeafletMeasureControlView",
            "active_color": "orange",
            "capture_z_index": 10000,
            "completed_color": "#C8F2BE",
            "options": [
              "active_color",
              "capture_z_index",
              "completed_color",
              "popup_options",
              "position",
              "primary_area_unit",
              "primary_length_unit",
              "secondary_area_unit",
              "secondary_length_unit"
            ],
            "popup_options": {
              "className": "leaflet-measure-resultpopup",
              "autoPanPadding": [
                10,
                10
              ]
            },
            "position": "bottomleft",
            "primary_area_unit": "acres",
            "primary_length_unit": "kilometers",
            "secondary_area_unit": null,
            "secondary_length_unit": null
          }
        },
        "e1dace22f9d04f4f9859ffbd9f36aa83": {
          "model_module": "jupyter-leaflet",
          "model_name": "LeafletAttributionControlModel",
          "model_module_version": "^0.17",
          "state": {
            "_model_module": "jupyter-leaflet",
            "_model_module_version": "^0.17",
            "_model_name": "LeafletAttributionControlModel",
            "_view_count": null,
            "_view_module": "jupyter-leaflet",
            "_view_module_version": "^0.17",
            "_view_name": "LeafletAttributionControlView",
            "options": [
              "position",
              "prefix"
            ],
            "position": "bottomright",
            "prefix": "ipyleaflet"
          }
        },
        "8272a7b06ef2484999f2f0309c53e08f": {
          "model_module": "jupyter-leaflet",
          "model_name": "LeafletDrawControlModel",
          "model_module_version": "^0.17",
          "state": {
            "_model_module": "jupyter-leaflet",
            "_model_module_version": "^0.17",
            "_model_name": "LeafletDrawControlModel",
            "_view_count": null,
            "_view_module": "jupyter-leaflet",
            "_view_module_version": "^0.17",
            "_view_name": "LeafletDrawControlView",
            "circle": {
              "shapeOptions": {
                "color": "#3388ff"
              }
            },
            "circlemarker": {},
            "data": [],
            "edit": true,
            "marker": {
              "shapeOptions": {
                "color": "#3388ff"
              }
            },
            "options": [
              "position"
            ],
            "polygon": {
              "shapeOptions": {}
            },
            "polyline": {
              "shapeOptions": {}
            },
            "position": "topleft",
            "rectangle": {
              "shapeOptions": {
                "color": "#3388ff"
              }
            },
            "remove": true
          }
        },
        "c2a09f2e60504c27825d42955af0a27c": {
          "model_module": "jupyter-leaflet",
          "model_name": "LeafletWidgetControlModel",
          "model_module_version": "^0.17",
          "state": {
            "_model_module": "jupyter-leaflet",
            "_model_module_version": "^0.17",
            "_model_name": "LeafletWidgetControlModel",
            "_view_count": null,
            "_view_module": "jupyter-leaflet",
            "_view_module_version": "^0.17",
            "_view_name": "LeafletWidgetControlView",
            "max_height": null,
            "max_width": null,
            "min_height": null,
            "min_width": null,
            "options": [
              "position",
              "transparent_bg"
            ],
            "position": "topright",
            "transparent_bg": false,
            "widget": "IPY_MODEL_275cf4587f8841ab93216eab98b9126f"
          }
        },
        "09dfc844907140648dfca8f0fd46c6d9": {
          "model_module": "jupyter-leaflet",
          "model_name": "LeafletWidgetControlModel",
          "model_module_version": "^0.17",
          "state": {
            "_model_module": "jupyter-leaflet",
            "_model_module_version": "^0.17",
            "_model_name": "LeafletWidgetControlModel",
            "_view_count": null,
            "_view_module": "jupyter-leaflet",
            "_view_module_version": "^0.17",
            "_view_name": "LeafletWidgetControlView",
            "max_height": null,
            "max_width": null,
            "min_height": null,
            "min_width": null,
            "options": [
              "position",
              "transparent_bg"
            ],
            "position": "bottomright",
            "transparent_bg": false,
            "widget": "IPY_MODEL_3de8bc46e46740319748649d7b665f9b"
          }
        },
        "8fd2b4d5ca1b45e8b0a87c1e8abcddde": {
          "model_module": "jupyter-leaflet",
          "model_name": "LeafletMapStyleModel",
          "model_module_version": "^0.17",
          "state": {
            "_model_module": "jupyter-leaflet",
            "_model_module_version": "^0.17",
            "_model_name": "LeafletMapStyleModel",
            "_view_count": null,
            "_view_module": "@jupyter-widgets/base",
            "_view_module_version": "1.2.0",
            "_view_name": "StyleView",
            "cursor": "grab"
          }
        },
        "10e23bc8cb354de28738c9516d84549f": {
          "model_module": "jupyter-leaflet",
          "model_name": "LeafletMapStyleModel",
          "model_module_version": "^0.17",
          "state": {
            "_model_module": "jupyter-leaflet",
            "_model_module_version": "^0.17",
            "_model_name": "LeafletMapStyleModel",
            "_view_count": null,
            "_view_module": "@jupyter-widgets/base",
            "_view_module_version": "1.2.0",
            "_view_name": "StyleView",
            "cursor": "move"
          }
        },
        "162e2cc7230f43d1b519ada1fb862d2c": {
          "model_module": "jupyter-leaflet",
          "model_name": "LeafletTileLayerModel",
          "model_module_version": "^0.17",
          "state": {
            "_model_module": "jupyter-leaflet",
            "_model_module_version": "^0.17",
            "_model_name": "LeafletTileLayerModel",
            "_view_count": null,
            "_view_module": "jupyter-leaflet",
            "_view_module_version": "^0.17",
            "_view_name": "LeafletTileLayerView",
            "attribution": "&copy; <a href=\"https://www.openstreetmap.org/copyright\">OpenStreetMap</a> contributors",
            "base": true,
            "bottom": true,
            "bounds": null,
            "detect_retina": false,
            "loading": false,
            "max_native_zoom": null,
            "max_zoom": 19,
            "min_native_zoom": null,
            "min_zoom": 1,
            "name": "OpenStreetMap.Mapnik",
            "no_wrap": false,
            "opacity": 1,
            "options": [
              "attribution",
              "bounds",
              "detect_retina",
              "max_native_zoom",
              "max_zoom",
              "min_native_zoom",
              "min_zoom",
              "no_wrap",
              "tile_size",
              "tms",
              "zoom_offset"
            ],
            "pane": "",
            "popup": null,
            "popup_max_height": null,
            "popup_max_width": 300,
            "popup_min_width": 50,
            "show_loading": false,
            "subitems": [],
            "tile_size": 256,
            "tms": false,
            "url": "https://tile.openstreetmap.org/{z}/{x}/{y}.png",
            "visible": true,
            "zoom_offset": 0
          }
        },
        "a5c67a1c162944d4afb42a92f97a5c45": {
          "model_module": "jupyter-leaflet",
          "model_name": "LeafletTileLayerModel",
          "model_module_version": "^0.17",
          "state": {
            "_model_module": "jupyter-leaflet",
            "_model_module_version": "^0.17",
            "_model_name": "LeafletTileLayerModel",
            "_view_count": null,
            "_view_module": "jupyter-leaflet",
            "_view_module_version": "^0.17",
            "_view_name": "LeafletTileLayerView",
            "attribution": "Google",
            "base": false,
            "bottom": true,
            "bounds": null,
            "detect_retina": false,
            "loading": false,
            "max_native_zoom": null,
            "max_zoom": 24,
            "min_native_zoom": null,
            "min_zoom": 0,
            "name": "Google Maps",
            "no_wrap": false,
            "opacity": 1,
            "options": [
              "attribution",
              "bounds",
              "detect_retina",
              "max_native_zoom",
              "max_zoom",
              "min_native_zoom",
              "min_zoom",
              "no_wrap",
              "tile_size",
              "tms",
              "zoom_offset"
            ],
            "pane": "",
            "popup": null,
            "popup_max_height": null,
            "popup_max_width": 300,
            "popup_min_width": 50,
            "show_loading": false,
            "subitems": [],
            "tile_size": 256,
            "tms": false,
            "url": "https://mt1.google.com/vt/lyrs=m&x={x}&y={y}&z={z}",
            "visible": true,
            "zoom_offset": 0
          }
        },
        "5f6ddec69cf1442db9b35db75b12f684": {
          "model_module": "jupyter-leaflet",
          "model_name": "LeafletTileLayerModel",
          "model_module_version": "^0.17",
          "state": {
            "_model_module": "jupyter-leaflet",
            "_model_module_version": "^0.17",
            "_model_name": "LeafletTileLayerModel",
            "_view_count": null,
            "_view_module": "jupyter-leaflet",
            "_view_module_version": "^0.17",
            "_view_name": "LeafletTileLayerView",
            "attribution": "Google Earth Engine",
            "base": false,
            "bottom": true,
            "bounds": null,
            "detect_retina": false,
            "loading": false,
            "max_native_zoom": null,
            "max_zoom": 24,
            "min_native_zoom": null,
            "min_zoom": 0,
            "name": "SRTM DEM",
            "no_wrap": false,
            "opacity": 1,
            "options": [
              "attribution",
              "bounds",
              "detect_retina",
              "max_native_zoom",
              "max_zoom",
              "min_native_zoom",
              "min_zoom",
              "no_wrap",
              "tile_size",
              "tms",
              "zoom_offset"
            ],
            "pane": "",
            "popup": null,
            "popup_max_height": null,
            "popup_max_width": 300,
            "popup_min_width": 50,
            "show_loading": false,
            "subitems": [],
            "tile_size": 256,
            "tms": false,
            "url": "https://earthengine.googleapis.com/v1alpha/projects/earthengine-legacy/maps/d482e9b4245da3afe810e42aac532370-3f2948630a117c9920ae3f22e88fedd6/tiles/{z}/{x}/{y}",
            "visible": true,
            "zoom_offset": 0
          }
        },
        "d861d1190f804c16a03987d7d481d8bc": {
          "model_module": "@jupyter-widgets/base",
          "model_name": "LayoutModel",
          "model_module_version": "1.2.0",
          "state": {
            "_model_module": "@jupyter-widgets/base",
            "_model_module_version": "1.2.0",
            "_model_name": "LayoutModel",
            "_view_count": null,
            "_view_module": "@jupyter-widgets/base",
            "_view_module_version": "1.2.0",
            "_view_name": "LayoutView",
            "align_content": null,
            "align_items": null,
            "align_self": null,
            "border": null,
            "bottom": null,
            "display": null,
            "flex": null,
            "flex_flow": null,
            "grid_area": null,
            "grid_auto_columns": null,
            "grid_auto_flow": null,
            "grid_auto_rows": null,
            "grid_column": null,
            "grid_gap": null,
            "grid_row": null,
            "grid_template_areas": null,
            "grid_template_columns": null,
            "grid_template_rows": null,
            "height": "600px",
            "justify_content": null,
            "justify_items": null,
            "left": null,
            "margin": null,
            "max_height": null,
            "max_width": null,
            "min_height": null,
            "min_width": null,
            "object_fit": null,
            "object_position": null,
            "order": null,
            "overflow": null,
            "overflow_x": null,
            "overflow_y": null,
            "padding": null,
            "right": null,
            "top": null,
            "visibility": null,
            "width": null
          }
        },
        "ce27fb5b4eec44a0bd3cd7fd67afa892": {
          "model_module": "jupyter-leaflet",
          "model_name": "LeafletMapStyleModel",
          "model_module_version": "^0.17",
          "state": {
            "_model_module": "jupyter-leaflet",
            "_model_module_version": "^0.17",
            "_model_name": "LeafletMapStyleModel",
            "_view_count": null,
            "_view_module": "@jupyter-widgets/base",
            "_view_module_version": "1.2.0",
            "_view_name": "StyleView",
            "cursor": "grab"
          }
        },
        "92454781fef94a7692e0fa3b942bd51e": {
          "model_module": "@jupyter-widgets/controls",
          "model_name": "HBoxModel",
          "model_module_version": "1.5.0",
          "state": {
            "_dom_classes": [],
            "_model_module": "@jupyter-widgets/controls",
            "_model_module_version": "1.5.0",
            "_model_name": "HBoxModel",
            "_view_count": null,
            "_view_module": "@jupyter-widgets/controls",
            "_view_module_version": "1.5.0",
            "_view_name": "HBoxView",
            "box_style": "",
            "children": [
              "IPY_MODEL_dbd21fa7d37a473bbb065b8b73c4c34f"
            ],
            "layout": "IPY_MODEL_34e08669715d4d748c357e0650b81dec"
          }
        },
        "275cf4587f8841ab93216eab98b9126f": {
          "model_module": "@jupyter-widgets/controls",
          "model_name": "VBoxModel",
          "model_module_version": "1.5.0",
          "state": {
            "_dom_classes": [],
            "_model_module": "@jupyter-widgets/controls",
            "_model_module_version": "1.5.0",
            "_model_name": "VBoxModel",
            "_view_count": null,
            "_view_module": "@jupyter-widgets/controls",
            "_view_module_version": "1.5.0",
            "_view_name": "VBoxView",
            "box_style": "",
            "children": [
              "IPY_MODEL_a20bb1d515e6413db6afe7a1f8bcd10b"
            ],
            "layout": "IPY_MODEL_8b7dfe2d5fe848528867e35515043eb1"
          }
        },
        "3de8bc46e46740319748649d7b665f9b": {
          "model_module": "@jupyter-widgets/output",
          "model_name": "OutputModel",
          "model_module_version": "1.0.0",
          "state": {
            "_dom_classes": [],
            "_model_module": "@jupyter-widgets/output",
            "_model_module_version": "1.0.0",
            "_model_name": "OutputModel",
            "_view_count": null,
            "_view_module": "@jupyter-widgets/output",
            "_view_module_version": "1.0.0",
            "_view_name": "OutputView",
            "layout": "IPY_MODEL_b187ac40a78047b9bd929eb308168cfd",
            "msg_id": "",
            "outputs": [
              {
                "output_type": "display_data",
                "data": {
                  "text/plain": "<Figure size 300x30 with 1 Axes>",
                  "image/png": "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\n"
                },
                "metadata": {}
              }
            ]
          }
        },
        "dbd21fa7d37a473bbb065b8b73c4c34f": {
          "model_module": "@jupyter-widgets/controls",
          "model_name": "ToggleButtonModel",
          "model_module_version": "1.5.0",
          "state": {
            "_dom_classes": [],
            "_model_module": "@jupyter-widgets/controls",
            "_model_module_version": "1.5.0",
            "_model_name": "ToggleButtonModel",
            "_view_count": null,
            "_view_module": "@jupyter-widgets/controls",
            "_view_module_version": "1.5.0",
            "_view_name": "ToggleButtonView",
            "button_style": "",
            "description": "",
            "description_tooltip": null,
            "disabled": false,
            "icon": "globe",
            "layout": "IPY_MODEL_07225e31e2e04ffea36ca07d84ca472a",
            "style": "IPY_MODEL_6bc5ec69303342c8bfda532e6e72525b",
            "tooltip": "Search location/data",
            "value": false
          }
        },
        "34e08669715d4d748c357e0650b81dec": {
          "model_module": "@jupyter-widgets/base",
          "model_name": "LayoutModel",
          "model_module_version": "1.2.0",
          "state": {
            "_model_module": "@jupyter-widgets/base",
            "_model_module_version": "1.2.0",
            "_model_name": "LayoutModel",
            "_view_count": null,
            "_view_module": "@jupyter-widgets/base",
            "_view_module_version": "1.2.0",
            "_view_name": "LayoutView",
            "align_content": null,
            "align_items": null,
            "align_self": null,
            "border": null,
            "bottom": null,
            "display": null,
            "flex": null,
            "flex_flow": null,
            "grid_area": null,
            "grid_auto_columns": null,
            "grid_auto_flow": null,
            "grid_auto_rows": null,
            "grid_column": null,
            "grid_gap": null,
            "grid_row": null,
            "grid_template_areas": null,
            "grid_template_columns": null,
            "grid_template_rows": null,
            "height": null,
            "justify_content": null,
            "justify_items": null,
            "left": null,
            "margin": null,
            "max_height": null,
            "max_width": null,
            "min_height": null,
            "min_width": null,
            "object_fit": null,
            "object_position": null,
            "order": null,
            "overflow": null,
            "overflow_x": null,
            "overflow_y": null,
            "padding": null,
            "right": null,
            "top": null,
            "visibility": null,
            "width": null
          }
        },
        "a20bb1d515e6413db6afe7a1f8bcd10b": {
          "model_module": "@jupyter-widgets/controls",
          "model_name": "ToggleButtonModel",
          "model_module_version": "1.5.0",
          "state": {
            "_dom_classes": [],
            "_model_module": "@jupyter-widgets/controls",
            "_model_module_version": "1.5.0",
            "_model_name": "ToggleButtonModel",
            "_view_count": null,
            "_view_module": "@jupyter-widgets/controls",
            "_view_module_version": "1.5.0",
            "_view_name": "ToggleButtonView",
            "button_style": "",
            "description": "",
            "description_tooltip": null,
            "disabled": false,
            "icon": "wrench",
            "layout": "IPY_MODEL_d16329a03a4f46b78180514b8deb0dc0",
            "style": "IPY_MODEL_a6a248532c154226829f82b0619b2350",
            "tooltip": "Toolbar",
            "value": false
          }
        },
        "8b7dfe2d5fe848528867e35515043eb1": {
          "model_module": "@jupyter-widgets/base",
          "model_name": "LayoutModel",
          "model_module_version": "1.2.0",
          "state": {
            "_model_module": "@jupyter-widgets/base",
            "_model_module_version": "1.2.0",
            "_model_name": "LayoutModel",
            "_view_count": null,
            "_view_module": "@jupyter-widgets/base",
            "_view_module_version": "1.2.0",
            "_view_name": "LayoutView",
            "align_content": null,
            "align_items": null,
            "align_self": null,
            "border": null,
            "bottom": null,
            "display": null,
            "flex": null,
            "flex_flow": null,
            "grid_area": null,
            "grid_auto_columns": null,
            "grid_auto_flow": null,
            "grid_auto_rows": null,
            "grid_column": null,
            "grid_gap": null,
            "grid_row": null,
            "grid_template_areas": null,
            "grid_template_columns": null,
            "grid_template_rows": null,
            "height": null,
            "justify_content": null,
            "justify_items": null,
            "left": null,
            "margin": null,
            "max_height": null,
            "max_width": null,
            "min_height": null,
            "min_width": null,
            "object_fit": null,
            "object_position": null,
            "order": null,
            "overflow": null,
            "overflow_x": null,
            "overflow_y": null,
            "padding": null,
            "right": null,
            "top": null,
            "visibility": null,
            "width": null
          }
        },
        "b187ac40a78047b9bd929eb308168cfd": {
          "model_module": "@jupyter-widgets/base",
          "model_name": "LayoutModel",
          "model_module_version": "1.2.0",
          "state": {
            "_model_module": "@jupyter-widgets/base",
            "_model_module_version": "1.2.0",
            "_model_name": "LayoutModel",
            "_view_count": null,
            "_view_module": "@jupyter-widgets/base",
            "_view_module_version": "1.2.0",
            "_view_name": "LayoutView",
            "align_content": null,
            "align_items": null,
            "align_self": null,
            "border": null,
            "bottom": null,
            "display": null,
            "flex": null,
            "flex_flow": null,
            "grid_area": null,
            "grid_auto_columns": null,
            "grid_auto_flow": null,
            "grid_auto_rows": null,
            "grid_column": null,
            "grid_gap": null,
            "grid_row": null,
            "grid_template_areas": null,
            "grid_template_columns": null,
            "grid_template_rows": null,
            "height": null,
            "justify_content": null,
            "justify_items": null,
            "left": null,
            "margin": null,
            "max_height": null,
            "max_width": null,
            "min_height": null,
            "min_width": null,
            "object_fit": null,
            "object_position": null,
            "order": null,
            "overflow": null,
            "overflow_x": null,
            "overflow_y": null,
            "padding": null,
            "right": null,
            "top": null,
            "visibility": null,
            "width": null
          }
        },
        "07225e31e2e04ffea36ca07d84ca472a": {
          "model_module": "@jupyter-widgets/base",
          "model_name": "LayoutModel",
          "model_module_version": "1.2.0",
          "state": {
            "_model_module": "@jupyter-widgets/base",
            "_model_module_version": "1.2.0",
            "_model_name": "LayoutModel",
            "_view_count": null,
            "_view_module": "@jupyter-widgets/base",
            "_view_module_version": "1.2.0",
            "_view_name": "LayoutView",
            "align_content": null,
            "align_items": null,
            "align_self": null,
            "border": null,
            "bottom": null,
            "display": null,
            "flex": null,
            "flex_flow": null,
            "grid_area": null,
            "grid_auto_columns": null,
            "grid_auto_flow": null,
            "grid_auto_rows": null,
            "grid_column": null,
            "grid_gap": null,
            "grid_row": null,
            "grid_template_areas": null,
            "grid_template_columns": null,
            "grid_template_rows": null,
            "height": "28px",
            "justify_content": null,
            "justify_items": null,
            "left": null,
            "margin": null,
            "max_height": null,
            "max_width": null,
            "min_height": null,
            "min_width": null,
            "object_fit": null,
            "object_position": null,
            "order": null,
            "overflow": null,
            "overflow_x": null,
            "overflow_y": null,
            "padding": "0px 0px 0px 4px",
            "right": null,
            "top": null,
            "visibility": null,
            "width": "28px"
          }
        },
        "6bc5ec69303342c8bfda532e6e72525b": {
          "model_module": "@jupyter-widgets/controls",
          "model_name": "DescriptionStyleModel",
          "model_module_version": "1.5.0",
          "state": {
            "_model_module": "@jupyter-widgets/controls",
            "_model_module_version": "1.5.0",
            "_model_name": "DescriptionStyleModel",
            "_view_count": null,
            "_view_module": "@jupyter-widgets/base",
            "_view_module_version": "1.2.0",
            "_view_name": "StyleView",
            "description_width": ""
          }
        },
        "d16329a03a4f46b78180514b8deb0dc0": {
          "model_module": "@jupyter-widgets/base",
          "model_name": "LayoutModel",
          "model_module_version": "1.2.0",
          "state": {
            "_model_module": "@jupyter-widgets/base",
            "_model_module_version": "1.2.0",
            "_model_name": "LayoutModel",
            "_view_count": null,
            "_view_module": "@jupyter-widgets/base",
            "_view_module_version": "1.2.0",
            "_view_name": "LayoutView",
            "align_content": null,
            "align_items": null,
            "align_self": null,
            "border": null,
            "bottom": null,
            "display": null,
            "flex": null,
            "flex_flow": null,
            "grid_area": null,
            "grid_auto_columns": null,
            "grid_auto_flow": null,
            "grid_auto_rows": null,
            "grid_column": null,
            "grid_gap": null,
            "grid_row": null,
            "grid_template_areas": null,
            "grid_template_columns": null,
            "grid_template_rows": null,
            "height": "28px",
            "justify_content": null,
            "justify_items": null,
            "left": null,
            "margin": null,
            "max_height": null,
            "max_width": null,
            "min_height": null,
            "min_width": null,
            "object_fit": null,
            "object_position": null,
            "order": null,
            "overflow": null,
            "overflow_x": null,
            "overflow_y": null,
            "padding": "0px 0px 0px 4px",
            "right": null,
            "top": null,
            "visibility": null,
            "width": "28px"
          }
        },
        "a6a248532c154226829f82b0619b2350": {
          "model_module": "@jupyter-widgets/controls",
          "model_name": "DescriptionStyleModel",
          "model_module_version": "1.5.0",
          "state": {
            "_model_module": "@jupyter-widgets/controls",
            "_model_module_version": "1.5.0",
            "_model_name": "DescriptionStyleModel",
            "_view_count": null,
            "_view_module": "@jupyter-widgets/base",
            "_view_module_version": "1.2.0",
            "_view_name": "StyleView",
            "description_width": ""
          }
        },
        "95d089c1a8a24134aca1d3bd5bbd9925": {
          "model_module": "jupyter-leaflet",
          "model_name": "LeafletWidgetControlModel",
          "model_module_version": "^0.17",
          "state": {
            "_model_module": "jupyter-leaflet",
            "_model_module_version": "^0.17",
            "_model_name": "LeafletWidgetControlModel",
            "_view_count": null,
            "_view_module": "jupyter-leaflet",
            "_view_module_version": "^0.17",
            "_view_name": "LeafletWidgetControlView",
            "max_height": null,
            "max_width": null,
            "min_height": null,
            "min_width": null,
            "options": [
              "position",
              "transparent_bg"
            ],
            "position": "bottomright",
            "transparent_bg": true,
            "widget": "IPY_MODEL_7a874c4dce454f7a9033a718cae862ba"
          }
        },
        "7a874c4dce454f7a9033a718cae862ba": {
          "model_module": "@jupyter-widgets/output",
          "model_name": "OutputModel",
          "model_module_version": "1.0.0",
          "state": {
            "_dom_classes": [],
            "_model_module": "@jupyter-widgets/output",
            "_model_module_version": "1.0.0",
            "_model_name": "OutputModel",
            "_view_count": null,
            "_view_module": "@jupyter-widgets/output",
            "_view_module_version": "1.0.0",
            "_view_name": "OutputView",
            "layout": "IPY_MODEL_472982d5b9c04cd2ae1e66e33347c9e3",
            "msg_id": "",
            "outputs": [
              {
                "output_type": "display_data",
                "data": {
                  "text/plain": "<Figure size 30x300 with 1 Axes>",
                  "image/png": "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\n"
                },
                "metadata": {}
              }
            ]
          }
        },
        "472982d5b9c04cd2ae1e66e33347c9e3": {
          "model_module": "@jupyter-widgets/base",
          "model_name": "LayoutModel",
          "model_module_version": "1.2.0",
          "state": {
            "_model_module": "@jupyter-widgets/base",
            "_model_module_version": "1.2.0",
            "_model_name": "LayoutModel",
            "_view_count": null,
            "_view_module": "@jupyter-widgets/base",
            "_view_module_version": "1.2.0",
            "_view_name": "LayoutView",
            "align_content": null,
            "align_items": null,
            "align_self": null,
            "border": null,
            "bottom": null,
            "display": null,
            "flex": null,
            "flex_flow": null,
            "grid_area": null,
            "grid_auto_columns": null,
            "grid_auto_flow": null,
            "grid_auto_rows": null,
            "grid_column": null,
            "grid_gap": null,
            "grid_row": null,
            "grid_template_areas": null,
            "grid_template_columns": null,
            "grid_template_rows": null,
            "height": null,
            "justify_content": null,
            "justify_items": null,
            "left": null,
            "margin": null,
            "max_height": null,
            "max_width": null,
            "min_height": null,
            "min_width": null,
            "object_fit": null,
            "object_position": null,
            "order": null,
            "overflow": null,
            "overflow_x": null,
            "overflow_y": null,
            "padding": null,
            "right": null,
            "top": null,
            "visibility": null,
            "width": null
          }
        },
        "053e1ccfb31f404486c151c1f07d8e66": {
          "model_module": "jupyter-leaflet",
          "model_name": "LeafletWidgetControlModel",
          "model_module_version": "^0.17",
          "state": {
            "_model_module": "jupyter-leaflet",
            "_model_module_version": "^0.17",
            "_model_name": "LeafletWidgetControlModel",
            "_view_count": null,
            "_view_module": "jupyter-leaflet",
            "_view_module_version": "^0.17",
            "_view_name": "LeafletWidgetControlView",
            "max_height": null,
            "max_width": null,
            "min_height": null,
            "min_width": null,
            "options": [
              "position",
              "transparent_bg"
            ],
            "position": "bottomright",
            "transparent_bg": true,
            "widget": "IPY_MODEL_880550fe1c724280872a6617541103c4"
          }
        },
        "880550fe1c724280872a6617541103c4": {
          "model_module": "@jupyter-widgets/output",
          "model_name": "OutputModel",
          "model_module_version": "1.0.0",
          "state": {
            "_dom_classes": [],
            "_model_module": "@jupyter-widgets/output",
            "_model_module_version": "1.0.0",
            "_model_name": "OutputModel",
            "_view_count": null,
            "_view_module": "@jupyter-widgets/output",
            "_view_module_version": "1.0.0",
            "_view_name": "OutputView",
            "layout": "IPY_MODEL_7f102eeaf723456c97ed446b0662cf9f",
            "msg_id": "",
            "outputs": [
              {
                "output_type": "display_data",
                "data": {
                  "text/plain": "<Figure size 30x300 with 1 Axes>",
                  "image/png": "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\n"
                },
                "metadata": {}
              }
            ]
          }
        },
        "7f102eeaf723456c97ed446b0662cf9f": {
          "model_module": "@jupyter-widgets/base",
          "model_name": "LayoutModel",
          "model_module_version": "1.2.0",
          "state": {
            "_model_module": "@jupyter-widgets/base",
            "_model_module_version": "1.2.0",
            "_model_name": "LayoutModel",
            "_view_count": null,
            "_view_module": "@jupyter-widgets/base",
            "_view_module_version": "1.2.0",
            "_view_name": "LayoutView",
            "align_content": null,
            "align_items": null,
            "align_self": null,
            "border": null,
            "bottom": null,
            "display": null,
            "flex": null,
            "flex_flow": null,
            "grid_area": null,
            "grid_auto_columns": null,
            "grid_auto_flow": null,
            "grid_auto_rows": null,
            "grid_column": null,
            "grid_gap": null,
            "grid_row": null,
            "grid_template_areas": null,
            "grid_template_columns": null,
            "grid_template_rows": null,
            "height": null,
            "justify_content": null,
            "justify_items": null,
            "left": null,
            "margin": null,
            "max_height": null,
            "max_width": null,
            "min_height": null,
            "min_width": null,
            "object_fit": null,
            "object_position": null,
            "order": null,
            "overflow": null,
            "overflow_x": null,
            "overflow_y": null,
            "padding": null,
            "right": null,
            "top": null,
            "visibility": null,
            "width": null
          }
        },
        "afaaba47f60447539c5662a4ed3c88e5": {
          "model_module": "jupyter-leaflet",
          "model_name": "LeafletWidgetControlModel",
          "model_module_version": "^0.17",
          "state": {
            "_model_module": "jupyter-leaflet",
            "_model_module_version": "^0.17",
            "_model_name": "LeafletWidgetControlModel",
            "_view_count": null,
            "_view_module": "jupyter-leaflet",
            "_view_module_version": "^0.17",
            "_view_name": "LeafletWidgetControlView",
            "max_height": null,
            "max_width": null,
            "min_height": null,
            "min_width": null,
            "options": [
              "position",
              "transparent_bg"
            ],
            "position": "bottomright",
            "transparent_bg": true,
            "widget": "IPY_MODEL_06c81a4a415b41de8d5101874c960468"
          }
        },
        "06c81a4a415b41de8d5101874c960468": {
          "model_module": "@jupyter-widgets/output",
          "model_name": "OutputModel",
          "model_module_version": "1.0.0",
          "state": {
            "_dom_classes": [],
            "_model_module": "@jupyter-widgets/output",
            "_model_module_version": "1.0.0",
            "_model_name": "OutputModel",
            "_view_count": null,
            "_view_module": "@jupyter-widgets/output",
            "_view_module_version": "1.0.0",
            "_view_name": "OutputView",
            "layout": "IPY_MODEL_c6324c2840ec41adaff270419f4a72ba",
            "msg_id": "",
            "outputs": [
              {
                "output_type": "display_data",
                "data": {
                  "text/plain": "<Figure size 30x300 with 1 Axes>",
                  "image/png": "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\n"
                },
                "metadata": {}
              }
            ]
          }
        },
        "c6324c2840ec41adaff270419f4a72ba": {
          "model_module": "@jupyter-widgets/base",
          "model_name": "LayoutModel",
          "model_module_version": "1.2.0",
          "state": {
            "_model_module": "@jupyter-widgets/base",
            "_model_module_version": "1.2.0",
            "_model_name": "LayoutModel",
            "_view_count": null,
            "_view_module": "@jupyter-widgets/base",
            "_view_module_version": "1.2.0",
            "_view_name": "LayoutView",
            "align_content": null,
            "align_items": null,
            "align_self": null,
            "border": null,
            "bottom": null,
            "display": null,
            "flex": null,
            "flex_flow": null,
            "grid_area": null,
            "grid_auto_columns": null,
            "grid_auto_flow": null,
            "grid_auto_rows": null,
            "grid_column": null,
            "grid_gap": null,
            "grid_row": null,
            "grid_template_areas": null,
            "grid_template_columns": null,
            "grid_template_rows": null,
            "height": null,
            "justify_content": null,
            "justify_items": null,
            "left": null,
            "margin": null,
            "max_height": null,
            "max_width": null,
            "min_height": null,
            "min_width": null,
            "object_fit": null,
            "object_position": null,
            "order": null,
            "overflow": null,
            "overflow_x": null,
            "overflow_y": null,
            "padding": null,
            "right": null,
            "top": null,
            "visibility": null,
            "width": null
          }
        }
      }
    }
  },
  "cells": [
    {
      "cell_type": "markdown",
      "metadata": {
        "id": "view-in-github",
        "colab_type": "text"
      },
      "source": [
        "<a href=\"https://colab.research.google.com/github/oluwafemiomitusa/Google-Earth-Engine_Urbanization/blob/main/Land_Use_Mapping_with_Google_Earth_Engine_Python_API.ipynb\" target=\"_parent\"><img src=\"https://colab.research.google.com/assets/colab-badge.svg\" alt=\"Open In Colab\"/></a>"
      ]
    },
    {
      "cell_type": "code",
      "execution_count": 1,
      "metadata": {
        "id": "IuuCEolfEe2C"
      },
      "outputs": [],
      "source": [
        "# import libraries\n",
        "\n",
        "import ee, geemap\n",
        "\n",
        "\n",
        "# Trigger ee authentication\n",
        "#ee.Authenticate()\n",
        "\n",
        "# Initialize ee library\n",
        "ee.Initialize()"
      ]
    },
    {
      "cell_type": "code",
      "source": [
        "# ROI\n",
        "roi = ee.Geometry.Point([-96, 29.2])  # ROI is Houston\n",
        "location = roi.centroid().coordinates().getInfo()[::-1]\n",
        "\n",
        "# Load Landsat 8 data\n",
        "bands = ['B1', 'B2', 'B3', 'B4', 'B5', 'B7']\n",
        "image = ee.ImageCollection('LANDSAT/LC08/C01/T1_SR') \\\n",
        ".filterDate('2021-01-01', '2021-12-31') \\\n",
        ".filterBounds(roi) \\\n",
        ".sort('CLOUD_COVER') \\\n",
        ".first()"
      ],
      "metadata": {
        "id": "lGJAjZqmFSmA"
      },
      "execution_count": 2,
      "outputs": []
    },
    {
      "cell_type": "code",
      "source": [
        "print(location)"
      ],
      "metadata": {
        "colab": {
          "base_uri": "https://localhost:8080/"
        },
        "id": "IkplRXUPvJqH",
        "outputId": "67c6fba9-d9f0-40ea-898c-337de6fa7871"
      },
      "execution_count": 3,
      "outputs": [
        {
          "output_type": "stream",
          "name": "stdout",
          "text": [
            "[29.200000000000003, -96.00000000000001]\n"
          ]
        }
      ]
    },
    {
      "cell_type": "code",
      "source": [
        "# Import ESRI Data\n",
        "lc = ee.ImageCollection(\"projects/sat-io/open-datasets/landcover/ESRI_Global-LULC_10m\").mosaic().clip(image.geometry())\n",
        "label = 'b1'\n",
        "\n",
        "#Sample the input imagery to get a FeatureCollection of training data.\n",
        "sample = image.addBands(lc).sample(**{\n",
        "    'region': image.geometry(),\n",
        "    'numPixels': 1000,\n",
        "    'seed': 0\n",
        "})\n",
        "\n",
        "# Add a random value field to the sample and use it to approximately split 80%\n",
        "# of the features into a training set and 20% i to a validation set.\n",
        "sample = sample.randomColumn()\n",
        "trainingSample = sample.filter('random <= 0.8')\n",
        "validationSample = sample.filter('random > 0.8')\n",
        "\n",
        "# Train a 10-tree random forest classifier from the training sample.\n",
        "trainedClassifier = ee.Classifier.smileRandomForest(10).train(**{\n",
        "    'features': trainingSample,\n",
        "    'classProperty': label,\n",
        "    'inputProperties': bands\n",
        "})\n",
        "\n",
        "# Classify the reflectance image from the trained classifier.\n",
        "model = image.classify(trainedClassifier)"
      ],
      "metadata": {
        "id": "FHriHQVVGzM3"
      },
      "execution_count": 4,
      "outputs": []
    },
    {
      "cell_type": "code",
      "source": [
        "# Import the Folium library\n",
        "import folium\n",
        "\n",
        "# Define a method for displaying Earth ENgine Image tiles to folium map.\n",
        "def addLayer(self, ee_image_object, vis_params, name):\n",
        "  map_id_dict = ee.Image(ee_image_object).getMapId(vis_params)\n",
        "  folium.raster_layers.TileLayer(\n",
        "      tiles = map_id_dict['tile_fetcher'].url_format,\n",
        "      attr = 'Map Data &copy; <a href=\"https://earthengine.google.com/\">Google Earth Engine</a>',\n",
        "      name = name,\n",
        "      overlay = True,\n",
        "      control = True\n",
        "      ).add_to(self)\n",
        "\n",
        "# Create the map object\n",
        "Map = folium.Map(location=location, zoom_start = 8)\n",
        "\n",
        "# Add base map\n",
        "basemaps = {'Google Satellite Hybrid': folium.TileLayer(\n",
        "tiles = 'https://mt1.google.com/vt/lyrs=s&x={x}&y={y}&z={z}',\n",
        "attr = 'Google',\n",
        "name = 'Google Satellite Hybrid',\n",
        "overlay = True,\n",
        "control = True\n",
        ")}\n",
        "basemaps['Google Satellite Hybrid'].add_to(Map)\n",
        "  "
      ],
      "metadata": {
        "colab": {
          "base_uri": "https://localhost:8080/"
        },
        "id": "mob1IXDeKAxv",
        "outputId": "b45f8b05-1050-45d6-9708-2803df915ec1"
      },
      "execution_count": 5,
      "outputs": [
        {
          "output_type": "execute_result",
          "data": {
            "text/plain": [
              "<folium.raster_layers.TileLayer at 0x7fbbb704a1d0>"
            ]
          },
          "metadata": {},
          "execution_count": 5
        }
      ]
    },
    {
      "cell_type": "code",
      "source": [
        "folium.Map.addLayer = addLayer\n",
        "\n",
        "# Define a dictionary which will be used to make lgend and visualize image on map.\n",
        "dict = {\n",
        "    \"names\": [\n",
        "        \"Water\",\n",
        "        \"Trees\",\n",
        "        \"Grass\",\n",
        "        \"Flooded Vegetation\",\n",
        "        \"Crops\",\n",
        "        \"Scrub/Shrub\",\n",
        "        \"Built Area\",\n",
        "        \"Bare Ground\",\n",
        "        \"Snow/ice\",\n",
        "        \"Clouds\"\n",
        "      ],\n",
        "\n",
        "      \"colors\": [\n",
        "          \"#1A5BAB\",\n",
        "          \"#358221\",\n",
        "          \"#A7D282\",\n",
        "          \"#87D19E\",\n",
        "          \"#FFDB5C\",\n",
        "          \"#EECFA8\",\n",
        "          \"#ED022A\",\n",
        "          \"#EDE9E4\",\n",
        "          \"#F2FAFF\",\n",
        "          \"#C8C8C8\"\n",
        "      ]}\n",
        "# Add land cover to the image object.\n",
        "\n",
        "#Map.addLayer(lc, {'min':1, 'max':10, 'pallete':dict['colors']}, 'ESRI LULC 10m')\n",
        "Map.addLayer(model, {'min': 1, 'max': 10, 'palette': dict['colors']}, 'Classified 2021')\n",
        "\n",
        "\n",
        "visParamsTrue = {'bands': ['B4', 'B3', 'B2'], 'min':0, 'max':3000, 'gamma':1.4}\n",
        "Map.addLayer(image, visParamsTrue, 'Landsat 2021')\n",
        "\n",
        "# Add a layer control panel to the map.\n",
        "Map.add_child(folium.LayerControl())\n",
        "\n",
        "# Display the map.\n",
        "display(Map)"
      ],
      "metadata": {
        "colab": {
          "base_uri": "https://localhost:8080/",
          "height": 847
        },
        "id": "aX3UtnmsMyeH",
        "outputId": "c189aeb1-a8ce-4e95-a615-f38838a7866f"
      },
      "execution_count": 6,
      "outputs": [
        {
          "output_type": "display_data",
          "data": {
            "text/plain": [
              "<folium.folium.Map at 0x7fbbb704b070>"
            ],
            "text/html": [
              "<div style=\"width:100%;\"><div style=\"position:relative;width:100%;height:0;padding-bottom:60%;\"><span style=\"color:#565656\">Make this Notebook Trusted to load map: File -> Trust Notebook</span><iframe srcdoc=\"&lt;!DOCTYPE html&gt;\n",
              "&lt;html&gt;\n",
              "&lt;head&gt;\n",
              "    \n",
              "    &lt;meta http-equiv=&quot;content-type&quot; content=&quot;text/html; charset=UTF-8&quot; /&gt;\n",
              "    \n",
              "        &lt;script&gt;\n",
              "            L_NO_TOUCH = false;\n",
              "            L_DISABLE_3D = false;\n",
              "        &lt;/script&gt;\n",
              "    \n",
              "    &lt;style&gt;html, body {width: 100%;height: 100%;margin: 0;padding: 0;}&lt;/style&gt;\n",
              "    &lt;style&gt;#map {position:absolute;top:0;bottom:0;right:0;left:0;}&lt;/style&gt;\n",
              "    &lt;script src=&quot;https://cdn.jsdelivr.net/npm/leaflet@1.9.3/dist/leaflet.js&quot;&gt;&lt;/script&gt;\n",
              "    &lt;script src=&quot;https://code.jquery.com/jquery-1.12.4.min.js&quot;&gt;&lt;/script&gt;\n",
              "    &lt;script src=&quot;https://cdn.jsdelivr.net/npm/bootstrap@5.2.2/dist/js/bootstrap.bundle.min.js&quot;&gt;&lt;/script&gt;\n",
              "    &lt;script src=&quot;https://cdnjs.cloudflare.com/ajax/libs/Leaflet.awesome-markers/2.0.2/leaflet.awesome-markers.js&quot;&gt;&lt;/script&gt;\n",
              "    &lt;link rel=&quot;stylesheet&quot; href=&quot;https://cdn.jsdelivr.net/npm/leaflet@1.9.3/dist/leaflet.css&quot;/&gt;\n",
              "    &lt;link rel=&quot;stylesheet&quot; href=&quot;https://cdn.jsdelivr.net/npm/bootstrap@5.2.2/dist/css/bootstrap.min.css&quot;/&gt;\n",
              "    &lt;link rel=&quot;stylesheet&quot; href=&quot;https://netdna.bootstrapcdn.com/bootstrap/3.0.0/css/bootstrap.min.css&quot;/&gt;\n",
              "    &lt;link rel=&quot;stylesheet&quot; href=&quot;https://cdn.jsdelivr.net/npm/@fortawesome/fontawesome-free@6.2.0/css/all.min.css&quot;/&gt;\n",
              "    &lt;link rel=&quot;stylesheet&quot; href=&quot;https://cdnjs.cloudflare.com/ajax/libs/Leaflet.awesome-markers/2.0.2/leaflet.awesome-markers.css&quot;/&gt;\n",
              "    &lt;link rel=&quot;stylesheet&quot; href=&quot;https://cdn.jsdelivr.net/gh/python-visualization/folium/folium/templates/leaflet.awesome.rotate.min.css&quot;/&gt;\n",
              "    \n",
              "            &lt;meta name=&quot;viewport&quot; content=&quot;width=device-width,\n",
              "                initial-scale=1.0, maximum-scale=1.0, user-scalable=no&quot; /&gt;\n",
              "            &lt;style&gt;\n",
              "                #map_75f0906c56616af971998276e2bec5e1 {\n",
              "                    position: relative;\n",
              "                    width: 100.0%;\n",
              "                    height: 100.0%;\n",
              "                    left: 0.0%;\n",
              "                    top: 0.0%;\n",
              "                }\n",
              "                .leaflet-container { font-size: 1rem; }\n",
              "            &lt;/style&gt;\n",
              "        \n",
              "&lt;/head&gt;\n",
              "&lt;body&gt;\n",
              "    \n",
              "    \n",
              "            &lt;div class=&quot;folium-map&quot; id=&quot;map_75f0906c56616af971998276e2bec5e1&quot; &gt;&lt;/div&gt;\n",
              "        \n",
              "&lt;/body&gt;\n",
              "&lt;script&gt;\n",
              "    \n",
              "    \n",
              "            var map_75f0906c56616af971998276e2bec5e1 = L.map(\n",
              "                &quot;map_75f0906c56616af971998276e2bec5e1&quot;,\n",
              "                {\n",
              "                    center: [29.200000000000003, -96.00000000000001],\n",
              "                    crs: L.CRS.EPSG3857,\n",
              "                    zoom: 8,\n",
              "                    zoomControl: true,\n",
              "                    preferCanvas: false,\n",
              "                }\n",
              "            );\n",
              "\n",
              "            \n",
              "\n",
              "        \n",
              "    \n",
              "            var tile_layer_ae3745cedaa23eff6afb33b39f30c45d = L.tileLayer(\n",
              "                &quot;https://{s}.tile.openstreetmap.org/{z}/{x}/{y}.png&quot;,\n",
              "                {&quot;attribution&quot;: &quot;Data by \\u0026copy; \\u003ca target=\\&quot;_blank\\&quot; href=\\&quot;http://openstreetmap.org\\&quot;\\u003eOpenStreetMap\\u003c/a\\u003e, under \\u003ca target=\\&quot;_blank\\&quot; href=\\&quot;http://www.openstreetmap.org/copyright\\&quot;\\u003eODbL\\u003c/a\\u003e.&quot;, &quot;detectRetina&quot;: false, &quot;maxNativeZoom&quot;: 18, &quot;maxZoom&quot;: 18, &quot;minZoom&quot;: 0, &quot;noWrap&quot;: false, &quot;opacity&quot;: 1, &quot;subdomains&quot;: &quot;abc&quot;, &quot;tms&quot;: false}\n",
              "            ).addTo(map_75f0906c56616af971998276e2bec5e1);\n",
              "        \n",
              "    \n",
              "            var tile_layer_6bd875fe22bb0b12a9764673ab86359c = L.tileLayer(\n",
              "                &quot;https://mt1.google.com/vt/lyrs=s\\u0026x={x}\\u0026y={y}\\u0026z={z}&quot;,\n",
              "                {&quot;attribution&quot;: &quot;Google&quot;, &quot;detectRetina&quot;: false, &quot;maxNativeZoom&quot;: 18, &quot;maxZoom&quot;: 18, &quot;minZoom&quot;: 0, &quot;noWrap&quot;: false, &quot;opacity&quot;: 1, &quot;subdomains&quot;: &quot;abc&quot;, &quot;tms&quot;: false}\n",
              "            ).addTo(map_75f0906c56616af971998276e2bec5e1);\n",
              "        \n",
              "    \n",
              "            var tile_layer_d23bf3d66306470b28962544540ace82 = L.tileLayer(\n",
              "                &quot;https://earthengine.googleapis.com/v1alpha/projects/earthengine-legacy/maps/e76788c0a86d72bd33f67c57f0da6977-d2fd277ff1c5b628eb06b2c6ebca97dd/tiles/{z}/{x}/{y}&quot;,\n",
              "                {&quot;attribution&quot;: &quot;Map Data \\u0026copy; \\u003ca href=\\&quot;https://earthengine.google.com/\\&quot;\\u003eGoogle Earth Engine\\u003c/a\\u003e&quot;, &quot;detectRetina&quot;: false, &quot;maxNativeZoom&quot;: 18, &quot;maxZoom&quot;: 18, &quot;minZoom&quot;: 0, &quot;noWrap&quot;: false, &quot;opacity&quot;: 1, &quot;subdomains&quot;: &quot;abc&quot;, &quot;tms&quot;: false}\n",
              "            ).addTo(map_75f0906c56616af971998276e2bec5e1);\n",
              "        \n",
              "    \n",
              "            var tile_layer_5faf12d96136712b91a245ab5ca99500 = L.tileLayer(\n",
              "                &quot;https://earthengine.googleapis.com/v1alpha/projects/earthengine-legacy/maps/7a20487caf01f108b38617b9b4d9e3ed-cabaff354c620cc26f47b6e2017eedc0/tiles/{z}/{x}/{y}&quot;,\n",
              "                {&quot;attribution&quot;: &quot;Map Data \\u0026copy; \\u003ca href=\\&quot;https://earthengine.google.com/\\&quot;\\u003eGoogle Earth Engine\\u003c/a\\u003e&quot;, &quot;detectRetina&quot;: false, &quot;maxNativeZoom&quot;: 18, &quot;maxZoom&quot;: 18, &quot;minZoom&quot;: 0, &quot;noWrap&quot;: false, &quot;opacity&quot;: 1, &quot;subdomains&quot;: &quot;abc&quot;, &quot;tms&quot;: false}\n",
              "            ).addTo(map_75f0906c56616af971998276e2bec5e1);\n",
              "        \n",
              "    \n",
              "            var layer_control_c1112974d224733d2bd96e8ae4d44533 = {\n",
              "                base_layers : {\n",
              "                    &quot;openstreetmap&quot; : tile_layer_ae3745cedaa23eff6afb33b39f30c45d,\n",
              "                },\n",
              "                overlays :  {\n",
              "                    &quot;Google Satellite Hybrid&quot; : tile_layer_6bd875fe22bb0b12a9764673ab86359c,\n",
              "                    &quot;Classified 2021&quot; : tile_layer_d23bf3d66306470b28962544540ace82,\n",
              "                    &quot;Landsat 2021&quot; : tile_layer_5faf12d96136712b91a245ab5ca99500,\n",
              "                },\n",
              "            };\n",
              "            L.control.layers(\n",
              "                layer_control_c1112974d224733d2bd96e8ae4d44533.base_layers,\n",
              "                layer_control_c1112974d224733d2bd96e8ae4d44533.overlays,\n",
              "                {&quot;autoZIndex&quot;: true, &quot;collapsed&quot;: true, &quot;position&quot;: &quot;topright&quot;}\n",
              "            ).addTo(map_75f0906c56616af971998276e2bec5e1);\n",
              "        \n",
              "&lt;/script&gt;\n",
              "&lt;/html&gt;\" style=\"position:absolute;width:100%;height:100%;left:0;top:0;border:none !important;\" allowfullscreen webkitallowfullscreen mozallowfullscreen></iframe></div></div>"
            ]
          },
          "metadata": {}
        }
      ]
    },
    {
      "cell_type": "code",
      "source": [],
      "metadata": {
        "id": "2L1R2nJyuXu1"
      },
      "execution_count": 6,
      "outputs": []
    },
    {
      "cell_type": "markdown",
      "source": [
        "# Add Color Bar to Map in Google Engine Python API"
      ],
      "metadata": {
        "id": "2f8U2LR9fHmy"
      }
    },
    {
      "cell_type": "code",
      "source": [
        "Map = geemap.Map()\n",
        "\n",
        "\n",
        "# Load countries data\n",
        "countries = ee.FeatureCollection(\"USDOS/LSIB_SIMPLE/2017\");\n",
        "roi = countries.filter(ee.Filter.eq(\"country_na\",\"United States\"));\n",
        "\n",
        "dem = ee.Image(\"USGS/SRTMGL1_003\").clip(roi)\n",
        "vis_params = {\n",
        "    'min': 0,\n",
        "    'max': 4000,\n",
        "    'palette': ['006633', 'E5FFCC', '662A00', 'D8D8D8', 'F5F5F5'],\n",
        "}\n",
        "\n",
        "Map.addLayer(dem, vis_params, 'SRTM DEM')\n",
        "\n",
        "colors = vis_params['palette']\n",
        "vmin = vis_params['min']\n",
        "vmax = vis_params['max']\n",
        "Map.add_colorbar(vis_params, label='Elevation (m)', layer_name=\"SRTM DEM\") # Horizontal orientation\n",
        "Map.centerObject(roi, 4)\n",
        "Map"
      ],
      "metadata": {
        "id": "z2u_2S6guXpA",
        "colab": {
          "base_uri": "https://localhost:8080/",
          "height": 621,
          "referenced_widgets": [
            "be3994532685498885572903d18378f2",
            "64cb0bbcd06543f49b711be62944d8d7",
            "b647d5de83c147ed8ad3f289a9ce0d06",
            "bbf3860d86ba4aeda7abb0ec2cd93503",
            "e1e4877bc9fe47ceb952d17f0a44a8b1",
            "49c3ae6d37c744d6825ca02b9f301ab3",
            "e1dace22f9d04f4f9859ffbd9f36aa83",
            "8272a7b06ef2484999f2f0309c53e08f",
            "c2a09f2e60504c27825d42955af0a27c",
            "09dfc844907140648dfca8f0fd46c6d9",
            "8fd2b4d5ca1b45e8b0a87c1e8abcddde",
            "10e23bc8cb354de28738c9516d84549f",
            "162e2cc7230f43d1b519ada1fb862d2c",
            "a5c67a1c162944d4afb42a92f97a5c45",
            "5f6ddec69cf1442db9b35db75b12f684",
            "d861d1190f804c16a03987d7d481d8bc",
            "ce27fb5b4eec44a0bd3cd7fd67afa892",
            "92454781fef94a7692e0fa3b942bd51e",
            "275cf4587f8841ab93216eab98b9126f",
            "3de8bc46e46740319748649d7b665f9b",
            "dbd21fa7d37a473bbb065b8b73c4c34f",
            "34e08669715d4d748c357e0650b81dec",
            "a20bb1d515e6413db6afe7a1f8bcd10b",
            "8b7dfe2d5fe848528867e35515043eb1",
            "b187ac40a78047b9bd929eb308168cfd",
            "07225e31e2e04ffea36ca07d84ca472a",
            "6bc5ec69303342c8bfda532e6e72525b",
            "d16329a03a4f46b78180514b8deb0dc0",
            "a6a248532c154226829f82b0619b2350",
            "95d089c1a8a24134aca1d3bd5bbd9925",
            "7a874c4dce454f7a9033a718cae862ba",
            "472982d5b9c04cd2ae1e66e33347c9e3",
            "053e1ccfb31f404486c151c1f07d8e66",
            "880550fe1c724280872a6617541103c4",
            "7f102eeaf723456c97ed446b0662cf9f",
            "afaaba47f60447539c5662a4ed3c88e5",
            "06c81a4a415b41de8d5101874c960468",
            "c6324c2840ec41adaff270419f4a72ba"
          ]
        },
        "outputId": "47167529-4e2f-4315-e221-be860975f8ed"
      },
      "execution_count": 14,
      "outputs": [
        {
          "output_type": "display_data",
          "data": {
            "text/plain": [
              "Map(center=[39.76850680995396, -99.05366228420321], controls=(WidgetControl(options=['position', 'transparent_…"
            ],
            "application/vnd.jupyter.widget-view+json": {
              "version_major": 2,
              "version_minor": 0,
              "model_id": "be3994532685498885572903d18378f2"
            }
          },
          "metadata": {
            "application/vnd.jupyter.widget-view+json": {
              "colab": {
                "custom_widget_manager": {
                  "url": "https://ssl.gstatic.com/colaboratory-static/widgets/colab-cdn-widget-manager/b3e629b1971e1542/manager.min.js"
                }
              }
            }
          }
        }
      ]
    },
    {
      "cell_type": "code",
      "source": [
        "# Vertical orientation\n",
        "Map.add_colorbar(vis_params, label='Elevation (m)', layer_name=\"SRTM DEM\", orientation=\"vertical\")"
      ],
      "metadata": {
        "id": "c6Qh_UlZges1"
      },
      "execution_count": 8,
      "outputs": []
    },
    {
      "cell_type": "code",
      "source": [
        "# Add transparency to legend\n",
        "Map.add_colorbar(vis_params, label='Elevation (m)', layer_name=\"SRTM DEM\", orientation=\"vertical\", transparent_bg=True)\n"
      ],
      "metadata": {
        "id": "AISyMlNqhFZ9"
      },
      "execution_count": 16,
      "outputs": []
    },
    {
      "cell_type": "code",
      "source": [
        "# Add classification to legend\n",
        "Map.add_colorbar(vis_params, label='Elevation (m)', layer_name=\"SRTM DEM\", orientation=\"vertical\", transparent_bg=True, discrete=True)\n"
      ],
      "metadata": {
        "id": "H_l-sIiQjVmM"
      },
      "execution_count": 18,
      "outputs": []
    }
  ]
}