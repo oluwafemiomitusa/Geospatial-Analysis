{
  "nbformat": 4,
  "nbformat_minor": 0,
  "metadata": {
    "colab": {
      "provenance": [],
      "authorship_tag": "ABX9TyP2D1Wtg0LWYsJio5dEOM8Z",
      "include_colab_link": true
    },
    "kernelspec": {
      "name": "python3",
      "display_name": "Python 3"
    },
    "language_info": {
      "name": "python"
    }
  },
  "cells": [
    {
      "cell_type": "markdown",
      "metadata": {
        "id": "view-in-github",
        "colab_type": "text"
      },
      "source": [
        "<a href=\"https://colab.research.google.com/github/oluwafemiomitusa/Urbanization-and-Climate-Change/blob/main/nexrad_level_3.ipynb\" target=\"_parent\"><img src=\"https://colab.research.google.com/assets/colab-badge.svg\" alt=\"Open In Colab\"/></a>"
      ]
    },
    {
      "cell_type": "code",
      "source": [
        "from google.colab import drive\n",
        "drive.mount('/content/drive')"
      ],
      "metadata": {
        "id": "iMZLWuSwmR5w",
        "colab": {
          "base_uri": "https://localhost:8080/"
        },
        "outputId": "6d30b15d-12f0-4ed7-b4c4-58a21b98d898"
      },
      "execution_count": 1,
      "outputs": [
        {
          "output_type": "stream",
          "name": "stdout",
          "text": [
            "Mounted at /content/drive\n"
          ]
        }
      ]
    },
    {
      "cell_type": "markdown",
      "source": [
        "# New Section"
      ],
      "metadata": {
        "id": "2TTO2TZYmbzY"
      }
    },
    {
      "cell_type": "code",
      "source": [
        "pip install pyproj arm-pyart cartopy wradlib"
      ],
      "metadata": {
        "id": "gEZj77NJLd41",
        "colab": {
          "base_uri": "https://localhost:8080/"
        },
        "outputId": "d3dcdf3b-e05d-478d-f5f1-e213bd14b5db"
      },
      "execution_count": null,
      "outputs": [
        {
          "output_type": "stream",
          "name": "stdout",
          "text": [
            "Requirement already satisfied: pyproj in /usr/local/lib/python3.10/dist-packages (3.6.0)\n",
            "Collecting arm-pyart\n",
            "  Downloading arm_pyart-1.15.2-cp310-cp310-manylinux_2_17_x86_64.manylinux2014_x86_64.whl (12.7 MB)\n",
            "\u001b[2K     \u001b[90m━━━━━━━━━━━━━━━━━━━━━━━━━━━━━━━━━━━━━━━━\u001b[0m \u001b[32m12.7/12.7 MB\u001b[0m \u001b[31m30.9 MB/s\u001b[0m eta \u001b[36m0:00:00\u001b[0m\n",
            "\u001b[?25hCollecting cartopy\n",
            "  Downloading Cartopy-0.21.1.tar.gz (10.9 MB)\n",
            "\u001b[2K     \u001b[90m━━━━━━━━━━━━━━━━━━━━━━━━━━━━━━━━━━━━━━━━\u001b[0m \u001b[32m10.9/10.9 MB\u001b[0m \u001b[31m59.5 MB/s\u001b[0m eta \u001b[36m0:00:00\u001b[0m\n",
            "\u001b[?25h  Installing build dependencies ... \u001b[?25l\u001b[?25hdone\n",
            "  Getting requirements to build wheel ... \u001b[?25l\u001b[?25hdone\n",
            "  Preparing metadata (pyproject.toml) ... \u001b[?25l\u001b[?25hdone\n",
            "Collecting wradlib\n",
            "  Downloading wradlib-1.19.2-py3-none-any.whl (272 kB)\n",
            "\u001b[2K     \u001b[90m━━━━━━━━━━━━━━━━━━━━━━━━━━━━━━━━━━━━━━\u001b[0m \u001b[32m272.2/272.2 kB\u001b[0m \u001b[31m30.5 MB/s\u001b[0m eta \u001b[36m0:00:00\u001b[0m\n",
            "\u001b[?25hRequirement already satisfied: certifi in /usr/local/lib/python3.10/dist-packages (from pyproj) (2023.5.7)\n",
            "Requirement already satisfied: numpy in /usr/local/lib/python3.10/dist-packages (from arm-pyart) (1.22.4)\n",
            "Requirement already satisfied: scipy in /usr/local/lib/python3.10/dist-packages (from arm-pyart) (1.10.1)\n",
            "Collecting netCDF4 (from arm-pyart)\n",
            "  Downloading netCDF4-1.6.4-cp310-cp310-manylinux_2_17_x86_64.manylinux2014_x86_64.whl (5.4 MB)\n",
            "\u001b[2K     \u001b[90m━━━━━━━━━━━━━━━━━━━━━━━━━━━━━━━━━━━━━━━━\u001b[0m \u001b[32m5.4/5.4 MB\u001b[0m \u001b[31m80.2 MB/s\u001b[0m eta \u001b[36m0:00:00\u001b[0m\n",
            "\u001b[?25hRequirement already satisfied: matplotlib in /usr/local/lib/python3.10/dist-packages (from arm-pyart) (3.7.1)\n",
            "Requirement already satisfied: pooch in /usr/local/lib/python3.10/dist-packages (from arm-pyart) (1.6.0)\n",
            "Collecting cftime (from arm-pyart)\n",
            "  Downloading cftime-1.6.2-cp310-cp310-manylinux_2_17_x86_64.manylinux2014_x86_64.whl (1.2 MB)\n",
            "\u001b[2K     \u001b[90m━━━━━━━━━━━━━━━━━━━━━━━━━━━━━━━━━━━━━━━━\u001b[0m \u001b[32m1.2/1.2 MB\u001b[0m \u001b[31m82.4 MB/s\u001b[0m eta \u001b[36m0:00:00\u001b[0m\n",
            "\u001b[?25hRequirement already satisfied: fsspec in /usr/local/lib/python3.10/dist-packages (from arm-pyart) (2023.6.0)\n",
            "Collecting s3fs (from arm-pyart)\n",
            "  Downloading s3fs-2023.6.0-py3-none-any.whl (28 kB)\n",
            "Collecting open-radar-data (from arm-pyart)\n",
            "  Downloading open_radar_data-0.0.5-py3-none-any.whl (7.2 kB)\n",
            "Collecting xradar (from arm-pyart)\n",
            "  Downloading xradar-0.3.0-py3-none-any.whl (87 kB)\n",
            "\u001b[2K     \u001b[90m━━━━━━━━━━━━━━━━━━━━━━━━━━━━━━━━━━━━━━━━\u001b[0m \u001b[32m87.8/87.8 kB\u001b[0m \u001b[31m11.7 MB/s\u001b[0m eta \u001b[36m0:00:00\u001b[0m\n",
            "\u001b[?25hRequirement already satisfied: pandas in /usr/local/lib/python3.10/dist-packages (from arm-pyart) (1.5.3)\n",
            "Requirement already satisfied: xarray!=0.21.0 in /usr/local/lib/python3.10/dist-packages (from arm-pyart) (2022.12.0)\n",
            "Requirement already satisfied: shapely>=1.6.4 in /usr/local/lib/python3.10/dist-packages (from cartopy) (2.0.1)\n",
            "Collecting pyshp>=2.1 (from cartopy)\n",
            "  Downloading pyshp-2.3.1-py2.py3-none-any.whl (46 kB)\n",
            "\u001b[2K     \u001b[90m━━━━━━━━━━━━━━━━━━━━━━━━━━━━━━━━━━━━━━━━\u001b[0m \u001b[32m46.5/46.5 kB\u001b[0m \u001b[31m5.6 MB/s\u001b[0m eta \u001b[36m0:00:00\u001b[0m\n",
            "\u001b[?25hCollecting deprecation (from wradlib)\n",
            "  Downloading deprecation-2.1.0-py2.py3-none-any.whl (11 kB)\n",
            "Requirement already satisfied: packaging in /usr/local/lib/python3.10/dist-packages (from wradlib) (23.1)\n",
            "Requirement already satisfied: contourpy>=1.0.1 in /usr/local/lib/python3.10/dist-packages (from matplotlib->arm-pyart) (1.1.0)\n",
            "Requirement already satisfied: cycler>=0.10 in /usr/local/lib/python3.10/dist-packages (from matplotlib->arm-pyart) (0.11.0)\n",
            "Requirement already satisfied: fonttools>=4.22.0 in /usr/local/lib/python3.10/dist-packages (from matplotlib->arm-pyart) (4.41.0)\n",
            "Requirement already satisfied: kiwisolver>=1.0.1 in /usr/local/lib/python3.10/dist-packages (from matplotlib->arm-pyart) (1.4.4)\n",
            "Requirement already satisfied: pillow>=6.2.0 in /usr/local/lib/python3.10/dist-packages (from matplotlib->arm-pyart) (8.4.0)\n",
            "Requirement already satisfied: pyparsing>=2.3.1 in /usr/local/lib/python3.10/dist-packages (from matplotlib->arm-pyart) (3.1.0)\n",
            "Requirement already satisfied: python-dateutil>=2.7 in /usr/local/lib/python3.10/dist-packages (from matplotlib->arm-pyart) (2.8.2)\n",
            "Requirement already satisfied: pytz>=2020.1 in /usr/local/lib/python3.10/dist-packages (from pandas->arm-pyart) (2022.7.1)\n",
            "Requirement already satisfied: dask in /usr/local/lib/python3.10/dist-packages (from xradar->arm-pyart) (2022.12.1)\n",
            "Requirement already satisfied: h5netcdf in /usr/local/lib/python3.10/dist-packages (from xradar->arm-pyart) (1.2.0)\n",
            "Requirement already satisfied: h5py in /usr/local/lib/python3.10/dist-packages (from xradar->arm-pyart) (3.8.0)\n",
            "Collecting lat-lon-parser (from xradar->arm-pyart)\n",
            "  Downloading lat_lon_parser-1.3.0-py2.py3-none-any.whl (10 kB)\n",
            "Collecting xarray-datatree>=0.0.10 (from xradar->arm-pyart)\n",
            "  Downloading xarray_datatree-0.0.12-py3-none-any.whl (61 kB)\n",
            "\u001b[2K     \u001b[90m━━━━━━━━━━━━━━━━━━━━━━━━━━━━━━━━━━━━━━━━\u001b[0m \u001b[32m61.2/61.2 kB\u001b[0m \u001b[31m7.6 MB/s\u001b[0m eta \u001b[36m0:00:00\u001b[0m\n",
            "\u001b[?25hCollecting xmltodict (from xradar->arm-pyart)\n",
            "  Downloading xmltodict-0.13.0-py2.py3-none-any.whl (10.0 kB)\n",
            "Requirement already satisfied: appdirs>=1.3.0 in /usr/local/lib/python3.10/dist-packages (from pooch->arm-pyart) (1.4.4)\n",
            "Requirement already satisfied: requests>=2.19.0 in /usr/local/lib/python3.10/dist-packages (from pooch->arm-pyart) (2.27.1)\n",
            "Collecting aiobotocore~=2.5.0 (from s3fs->arm-pyart)\n",
            "  Downloading aiobotocore-2.5.2-py3-none-any.whl (72 kB)\n",
            "\u001b[2K     \u001b[90m━━━━━━━━━━━━━━━━━━━━━━━━━━━━━━━━━━━━━━━━\u001b[0m \u001b[32m72.9/72.9 kB\u001b[0m \u001b[31m9.5 MB/s\u001b[0m eta \u001b[36m0:00:00\u001b[0m\n",
            "\u001b[?25hRequirement already satisfied: aiohttp!=4.0.0a0,!=4.0.0a1 in /usr/local/lib/python3.10/dist-packages (from s3fs->arm-pyart) (3.8.4)\n",
            "Collecting botocore<1.29.162,>=1.29.161 (from aiobotocore~=2.5.0->s3fs->arm-pyart)\n",
            "  Downloading botocore-1.29.161-py3-none-any.whl (10.9 MB)\n",
            "\u001b[2K     \u001b[90m━━━━━━━━━━━━━━━━━━━━━━━━━━━━━━━━━━━━━━━━\u001b[0m \u001b[32m10.9/10.9 MB\u001b[0m \u001b[31m90.9 MB/s\u001b[0m eta \u001b[36m0:00:00\u001b[0m\n",
            "\u001b[?25hRequirement already satisfied: wrapt<2.0.0,>=1.10.10 in /usr/local/lib/python3.10/dist-packages (from aiobotocore~=2.5.0->s3fs->arm-pyart) (1.14.1)\n",
            "Collecting aioitertools<1.0.0,>=0.5.1 (from aiobotocore~=2.5.0->s3fs->arm-pyart)\n",
            "  Downloading aioitertools-0.11.0-py3-none-any.whl (23 kB)\n",
            "Requirement already satisfied: attrs>=17.3.0 in /usr/local/lib/python3.10/dist-packages (from aiohttp!=4.0.0a0,!=4.0.0a1->s3fs->arm-pyart) (23.1.0)\n",
            "Requirement already satisfied: charset-normalizer<4.0,>=2.0 in /usr/local/lib/python3.10/dist-packages (from aiohttp!=4.0.0a0,!=4.0.0a1->s3fs->arm-pyart) (2.0.12)\n",
            "Requirement already satisfied: multidict<7.0,>=4.5 in /usr/local/lib/python3.10/dist-packages (from aiohttp!=4.0.0a0,!=4.0.0a1->s3fs->arm-pyart) (6.0.4)\n",
            "Requirement already satisfied: async-timeout<5.0,>=4.0.0a3 in /usr/local/lib/python3.10/dist-packages (from aiohttp!=4.0.0a0,!=4.0.0a1->s3fs->arm-pyart) (4.0.2)\n",
            "Requirement already satisfied: yarl<2.0,>=1.0 in /usr/local/lib/python3.10/dist-packages (from aiohttp!=4.0.0a0,!=4.0.0a1->s3fs->arm-pyart) (1.9.2)\n",
            "Requirement already satisfied: frozenlist>=1.1.1 in /usr/local/lib/python3.10/dist-packages (from aiohttp!=4.0.0a0,!=4.0.0a1->s3fs->arm-pyart) (1.4.0)\n",
            "Requirement already satisfied: aiosignal>=1.1.2 in /usr/local/lib/python3.10/dist-packages (from aiohttp!=4.0.0a0,!=4.0.0a1->s3fs->arm-pyart) (1.3.1)\n",
            "Requirement already satisfied: six>=1.5 in /usr/local/lib/python3.10/dist-packages (from python-dateutil>=2.7->matplotlib->arm-pyart) (1.16.0)\n",
            "Requirement already satisfied: urllib3<1.27,>=1.21.1 in /usr/local/lib/python3.10/dist-packages (from requests>=2.19.0->pooch->arm-pyart) (1.26.16)\n",
            "Requirement already satisfied: idna<4,>=2.5 in /usr/local/lib/python3.10/dist-packages (from requests>=2.19.0->pooch->arm-pyart) (3.4)\n",
            "Requirement already satisfied: click>=7.0 in /usr/local/lib/python3.10/dist-packages (from dask->xradar->arm-pyart) (8.1.6)\n",
            "Requirement already satisfied: cloudpickle>=1.1.1 in /usr/local/lib/python3.10/dist-packages (from dask->xradar->arm-pyart) (2.2.1)\n",
            "Requirement already satisfied: partd>=0.3.10 in /usr/local/lib/python3.10/dist-packages (from dask->xradar->arm-pyart) (1.4.0)\n",
            "Requirement already satisfied: pyyaml>=5.3.1 in /usr/local/lib/python3.10/dist-packages (from dask->xradar->arm-pyart) (6.0.1)\n",
            "Requirement already satisfied: toolz>=0.8.2 in /usr/local/lib/python3.10/dist-packages (from dask->xradar->arm-pyart) (0.12.0)\n",
            "Collecting jmespath<2.0.0,>=0.7.1 (from botocore<1.29.162,>=1.29.161->aiobotocore~=2.5.0->s3fs->arm-pyart)\n",
            "  Downloading jmespath-1.0.1-py3-none-any.whl (20 kB)\n",
            "Requirement already satisfied: locket in /usr/local/lib/python3.10/dist-packages (from partd>=0.3.10->dask->xradar->arm-pyart) (1.0.0)\n",
            "Building wheels for collected packages: cartopy\n",
            "  Building wheel for cartopy (pyproject.toml) ... \u001b[?25l\u001b[?25hdone\n",
            "  Created wheel for cartopy: filename=Cartopy-0.21.1-cp310-cp310-linux_x86_64.whl size=11080587 sha256=b8df18b3a624d015358ce0f037dd2ee312e3fa092fc384c662e74b78ec5ee39a\n",
            "  Stored in directory: /root/.cache/pip/wheels/30/b0/1a/1c1909e00c76653dc4e2ff48555257c0eb2d1698280c8d9955\n",
            "Successfully built cartopy\n",
            "Installing collected packages: lat-lon-parser, xmltodict, pyshp, jmespath, deprecation, cftime, aioitertools, netCDF4, botocore, open-radar-data, cartopy, aiobotocore, xarray-datatree, s3fs, xradar, wradlib, arm-pyart\n",
            "Successfully installed aiobotocore-2.5.2 aioitertools-0.11.0 arm-pyart-1.15.2 botocore-1.29.161 cartopy-0.21.1 cftime-1.6.2 deprecation-2.1.0 jmespath-1.0.1 lat-lon-parser-1.3.0 netCDF4-1.6.4 open-radar-data-0.0.5 pyshp-2.3.1 s3fs-2023.6.0 wradlib-1.19.2 xarray-datatree-0.0.12 xmltodict-0.13.0 xradar-0.3.0\n"
          ]
        }
      ]
    },
    {
      "cell_type": "code",
      "source": [
        "print(__doc__)\n",
        "\n",
        "# Author: Max Grover (mgrover@anl.gov)\n",
        "# License: BSD 3 clause\n",
        "\n",
        "import cartopy.crs as ccrs\n",
        "import matplotlib.pyplot as plt\n",
        "\n",
        "import pyart"
      ],
      "metadata": {
        "id": "rYv-f-2cq2vG"
      },
      "execution_count": null,
      "outputs": []
    },
    {
      "cell_type": "code",
      "source": [
        "aws_nexrad_level3_velocity_file = (\n",
        "    \"s3://unidata-nexrad-level3/HGX_N0U_2022_03_22_12_01_25\"\n",
        ")\n",
        "aws_nexrad_level3_reflectivity_file = (\n",
        "    \"s3://unidata-nexrad-level3/HGX_N1P_2022_03_22_12_01_25\"\n",
        ")"
      ],
      "metadata": {
        "id": "iti8_wysq5FY"
      },
      "execution_count": null,
      "outputs": []
    },
    {
      "cell_type": "code",
      "source": [
        "radar_level3_velocity = pyart.io.read_nexrad_level3(aws_nexrad_level3_velocity_file)\n",
        "radar_level3_reflectivity = pyart.io.read_nexrad_level3(\n",
        "    aws_nexrad_level3_reflectivity_file\n",
        ")"
      ],
      "metadata": {
        "id": "SQ5DpU-ErT4Q"
      },
      "execution_count": null,
      "outputs": []
    },
    {
      "cell_type": "code",
      "source": [],
      "metadata": {
        "id": "ba-_ioKk50pg"
      },
      "execution_count": null,
      "outputs": []
    },
    {
      "cell_type": "code",
      "source": [
        "print(\n",
        "    \"velocity radar object: \",\n",
        "    list(radar_level3_velocity.fields),\n",
        "    \"reflectivity radar object: \",\n",
        "    list(radar_level3_reflectivity.fields),\n",
        ")"
      ],
      "metadata": {
        "id": "SgV1sfRArco4"
      },
      "execution_count": null,
      "outputs": []
    },
    {
      "cell_type": "code",
      "source": [
        "fig = plt.figure(figsize=(12, 4))\n",
        "reflectivity_display = pyart.graph.RadarMapDisplay(radar_level3_reflectivity)\n",
        "\n",
        "ax = plt.subplot(121, projection=ccrs.PlateCarree())\n",
        "\n",
        "reflectivity_display.plot_ppi_map(\n",
        "    \"radar_estimated_rain_rate\",\n",
        "    ax=ax,\n",
        "    colorbar_label=\"Equivalent Relectivity ($Z_{e}$) \\n (dBZ)\",\n",
        "    vmin=-20,\n",
        "    vmax=60,\n",
        ")\n",
        "\n",
        "velocity_display = pyart.graph.RadarMapDisplay(radar_level3_velocity)\n",
        "\n",
        "ax = plt.subplot(122, projection=ccrs.PlateCarree())\n",
        "\n",
        "velocity_display.plot_ppi_map(\n",
        "    \"velocity\",\n",
        "    ax=ax,\n",
        "    colorbar_label=\"Radial Velocity ($V_{r}$) \\n (m/s)\",\n",
        "    vmin=-70,\n",
        "    vmax=70,\n",
        ")"
      ],
      "metadata": {
        "id": "voiTc2RTwBzo"
      },
      "execution_count": null,
      "outputs": []
    },
    {
      "cell_type": "code",
      "source": [],
      "metadata": {
        "id": "S4-j9UdiRBBh"
      },
      "execution_count": null,
      "outputs": []
    },
    {
      "cell_type": "code",
      "source": [
        "# Define the variable\n",
        "aws_nexrad_level3_precip_file = (\n",
        "    \"s3://unidata-nexrad-level3/HGX_N1P_2022_03_22_12_01_25\"\n",
        ")\n",
        "# Read the data using PyART\n",
        "radar_level3_precip = pyart.io.read_nexrad_level3(aws_nexrad_level3_precip_file)\n",
        "# Obtain precip data\n",
        "radar_level3_precip.fields['radar_estimated_rain_rate']['data']\n",
        "# Obtain lons and lats\n",
        "#radar_level3_precip.longitude['data']\n",
        "#radar_level3_precip.latitude['data']"
      ],
      "metadata": {
        "id": "XMMNZ-Xv6j3o"
      },
      "execution_count": null,
      "outputs": []
    },
    {
      "cell_type": "code",
      "source": [
        "\n",
        "# Visualize the precip\n",
        "fig = plt.figure(figsize=(12, 4))\n",
        "precip_display = pyart.graph.RadarMapDisplay(radar_level3_precip)\n",
        "\n",
        "ax = plt.subplot(121, projection=ccrs.PlateCarree())\n",
        "\n",
        "precip_display.plot_ppi_map(\n",
        "    \"radar_estimated_rain_rate\",\n",
        "    ax=ax,\n",
        "    vmin=0,\n",
        "    vmax=5,\n",
        ")"
      ],
      "metadata": {
        "id": "ZofeaYkKHqhv"
      },
      "execution_count": null,
      "outputs": []
    },
    {
      "cell_type": "markdown",
      "source": [
        "# Exract values precip values with the longitude and latitude values"
      ],
      "metadata": {
        "id": "pheDXqKiru09"
      }
    },
    {
      "cell_type": "code",
      "source": [
        "import numpy as np\n",
        "import wradlib as wrl\n",
        "import pyproj\n",
        "from numpy import ma\n",
        "\n",
        "# Define the variable\n",
        "aws_nexrad_level3_precip_file = \"s3://unidata-nexrad-level3/HGX_N1P_2022_06_24_22_25_00\"\n",
        "\n",
        "# Read the data using PyART\n",
        "radar_level3_precip = pyart.io.read_nexrad_level3(aws_nexrad_level3_precip_file)\n",
        "\n",
        "# Get radar gate (data point) information\n",
        "azimuths = radar_level3_precip.azimuth['data']\n",
        "ranges = radar_level3_precip.range['data']\n",
        "elevation = radar_level3_precip.elevation['data'][0]  # assuming all elevations are the same\n",
        "\n",
        "# Get radar location\n",
        "radar_lon = radar_level3_precip.longitude['data'][0]\n",
        "radar_lat = radar_level3_precip.latitude['data'][0]\n",
        "\n",
        "# Define the WGS84 ellipsoid\n",
        "wgs84 = pyproj.Proj(proj='latlong', datum='WGS84')\n",
        "\n",
        "# Convert (azimuth, range, elevation) to (x, y, z) in the WGS84 projection\n",
        "\n",
        "coords = wrl.georef.polar.spherical_to_proj(ranges, azimuths, elevation, (radar_lon, radar_lat))\n",
        "\n",
        "lon = coords[..., 0]\n",
        "lat = coords[..., 1]\n",
        "\n",
        "# Obtain precipitation data\n",
        "precip_data = radar_level3_precip.fields['radar_estimated_rain_rate']['data']\n",
        "\n",
        "# Apply the mask to the precipitation data\n",
        "masked_precip_data = ma.masked_array(precip_data, mask=radar_level3_precip.fields['radar_estimated_rain_rate']['data'].mask)\n",
        "\n",
        "# Get the precipitation values without the masked values\n",
        "precip_values = masked_precip_data.compressed()\n",
        "\n",
        "# Now, precip_values, lon, lat, x, y all have the same shape (without the masked values)\n",
        "# Apply the mask to lon and lat arrays\n",
        "lon_masked = ma.masked_array(lon, mask=masked_precip_data.mask)\n",
        "lat_masked = ma.masked_array(lat, mask=masked_precip_data.mask)\n",
        "\n",
        "# Get the lon and lat values without the masked values\n",
        "lon_values = lon_masked.compressed()\n",
        "lat_values = lat_masked.compressed()\n",
        "\n",
        "# Assuming you have a DataFrame called 'df' with columns 'Longitude', 'Latitude', and 'Precipitation'\n",
        "data = {'Longitude': lon_values, 'Latitude': lat_values, 'Precipitation': precip_values}\n",
        "df = pd.DataFrame(data)\n",
        "\n",
        "# Filter the DataFrame to include only precipitation values above 0\n",
        "filtered_df = df.loc[df['Precipitation'] > 0]\n",
        "\n",
        "# Save the filtered DataFrame to a CSV file\n",
        "filtered_df.to_csv('filtered_precip.csv', index=False)\n",
        "\n",
        "# Display the filtered DataFrame\n",
        "print(filtered_df)\n"
      ],
      "metadata": {
        "id": "E7C7VhvubrPM",
        "collapsed": true
      },
      "execution_count": null,
      "outputs": []
    },
    {
      "cell_type": "code",
      "source": [
        "import pandas as pd\n",
        "\n",
        "# Assuming you have a DataFrame called 'df' with columns 'Longitude', 'Latitude', and 'Precipitation'\n",
        "data = {'Longitude': lon_values, 'Latitude': lat_values, 'Precipitation': precip_values}\n",
        "df = pd.DataFrame(data)\n",
        "\n",
        "# Filter the DataFrame to include only precipitation values above 0\n",
        "filtered_df = df.loc[df['Precipitation'] > 0]\n",
        "\n",
        "# Save the filtered DataFrame to a CSV file\n",
        "filtered_df.to_csv('filtered_precip.csv', index=False)\n",
        "\n",
        "# Display the filtered DataFrame\n",
        "print(filtered_df)\n"
      ],
      "metadata": {
        "id": "ohDIDaTJp0qV"
      },
      "execution_count": null,
      "outputs": []
    },
    {
      "cell_type": "markdown",
      "source": [
        "## Extract the precip data from the radar L3 data for each longitude and latitude. The specific code below is for June 2022 dataaset."
      ],
      "metadata": {
        "id": "dqKqxyzNuSvb"
      }
    },
    {
      "cell_type": "code",
      "source": [
        "import os\n",
        "import numpy as np\n",
        "import wradlib as wrl\n",
        "import pyart\n",
        "import pyproj\n",
        "import pandas as pd\n",
        "from datetime import datetime\n",
        "from numpy import ma\n",
        "\n",
        "# Initialize an empty DataFrame\n",
        "all_data = pd.DataFrame()\n",
        "\n",
        "# Specify base directory and get list of folders (dates)\n",
        "base_dir = '/content/drive/My Drive/L3 Data/'\n",
        "folder_list = os.listdir(base_dir)  # get the list of folders\n",
        "\n",
        "# Loop over all folders\n",
        "for folder in folder_list:\n",
        "    # Get the list of files in the current folder\n",
        "    file_list = os.listdir(base_dir + folder)\n",
        "\n",
        "    # Loop over all data files\n",
        "    for data_file in file_list:\n",
        "        # Extract date and time from filename\n",
        "        datetime_str = data_file.split('_')[-1]  # get 'YYYYMMDDHHMM' part\n",
        "        datetime_obj = datetime.strptime(datetime_str, '%Y%m%d%H%M')\n",
        "\n",
        "        # Complete path to the file\n",
        "        aws_nexrad_level3_precip_file = base_dir + folder + '/' + data_file\n",
        "\n",
        "        # Read the data using PyART\n",
        "        radar_level3_precip = pyart.io.read_nexrad_level3(aws_nexrad_level3_precip_file)\n",
        "\n",
        "        # Get radar gate (data point) information\n",
        "        azimuths = radar_level3_precip.azimuth['data']\n",
        "        ranges = radar_level3_precip.range['data']\n",
        "        elevation = radar_level3_precip.elevation['data'][0]  # assuming all elevations are the same\n",
        "\n",
        "        # Get radar location\n",
        "        radar_lon = radar_level3_precip.longitude['data'][0]\n",
        "        radar_lat = radar_level3_precip.latitude['data'][0]\n",
        "\n",
        "        # Define the WGS84 ellipsoid\n",
        "        wgs84 = pyproj.Proj(proj='latlong', datum='WGS84')\n",
        "\n",
        "        # Convert (azimuth, range, elevation) to (x, y, z) in the WGS84 projection\n",
        "        coords = wrl.georef.polar.spherical_to_proj(ranges, azimuths, elevation, (radar_lon, radar_lat))\n",
        "\n",
        "        lon = coords[..., 0]\n",
        "        lat = coords[..., 1]\n",
        "\n",
        "        # Obtain precipitation data\n",
        "        precip_data = radar_level3_precip.fields['radar_estimated_rain_rate']['data']\n",
        "\n",
        "        # Apply the mask to the precipitation data\n",
        "        masked_precip_data = ma.masked_array(precip_data, mask=radar_level3_precip.fields['radar_estimated_rain_rate']['data'].mask)\n",
        "\n",
        "        # Get the precipitation values without the masked values\n",
        "        precip_values = masked_precip_data.compressed()\n",
        "\n",
        "        # Apply the mask to lon and lat arrays\n",
        "        lon_masked = ma.masked_array(lon, mask=masked_precip_data.mask)\n",
        "        lat_masked = ma.masked_array(lat, mask=masked_precip_data.mask)\n",
        "\n",
        "        # Get the lon and lat values without the masked values\n",
        "        lon_values = lon_masked.compressed()\n",
        "        lat_values = lat_masked.compressed()\n",
        "\n",
        "        # Create a DataFrame for this file with columns 'Date', 'Time', 'Longitude', 'Latitude', and 'Precipitation'\n",
        "        data = {'DateTime': [datetime_obj]*len(lon_values),\n",
        "                'Longitude': lon_values,\n",
        "                'Latitude': lat_values,\n",
        "                'Precipitation': precip_values}\n",
        "        df = pd.DataFrame(data)\n",
        "\n",
        "        # Add the data from this file to the combined DataFrame\n",
        "        all_data = pd.concat([all_data, df])\n",
        "\n",
        "# Set DateTime as index\n",
        "all_data.set_index('DateTime', inplace=True)\n",
        "\n",
        "# Group by hour and sum precipitation\n",
        "grouped_data = all_data.groupby([pd.Grouper(freq='H'), 'Longitude', 'Latitude']).sum().reset_index()\n",
        "\n",
        "# Save the grouped data to a CSV file\n",
        "grouped_data.to_csv('/content/drive/My Drive/L3 Data/grouped_precip.csv', index=False)\n",
        "\n",
        "# Display the data\n",
        "print(grouped_data)\n"
      ],
      "metadata": {
        "id": "daYZPie6uPAw"
      },
      "execution_count": null,
      "outputs": []
    },
    {
      "cell_type": "markdown",
      "source": [
        "# The code below subsets the precipitation based on the ASOS longitudes and latitudes to facilitate matching."
      ],
      "metadata": {
        "id": "PZeApf3DCNl-"
      }
    },
    {
      "cell_type": "code",
      "source": [
        "from scipy.spatial import cKDTree\n",
        "import numpy as np\n",
        "import os\n",
        "import wradlib as wrl\n",
        "import pyart\n",
        "import pyproj\n",
        "import pandas as pd\n",
        "from datetime import datetime\n",
        "from numpy import ma\n",
        "\n",
        "\n",
        "batch = 'first'                       # Batch of data to process\n",
        "season = 'summer'\n",
        "\n",
        "# Initialize an empty DataFrame\n",
        "all_data = pd.DataFrame()\n",
        "\n",
        "# Specify base directory and get list of folders (dates)\n",
        "base_dir = f'/content/drive/My Drive/L3 Data/{season}/{batch}/'\n",
        "folder_list = os.listdir(base_dir)  # get the list of folders\n",
        "\n",
        "# Define target coordinates\n",
        "latitudes = [29.717, 29.64586, 29.61667, 29.98438, 30.06801, 29.51924, 29.5, 29.61971, 29.726]\n",
        "longitudes = [-95.383, -95.28212, -95.1667, -95.3607, -95.5563, -95.2423, -95.477, -95.6575, -95.266]\n",
        "target_coords = list(zip(latitudes, longitudes))\n",
        "\n",
        "# Loop over all folders\n",
        "for folder in folder_list:\n",
        "    # Get the list of files in the current folder\n",
        "    file_list = os.listdir(base_dir + folder)\n",
        "\n",
        "    # Loop over all data files\n",
        "    for data_file in file_list:\n",
        "        # Extract date and time from filename\n",
        "        datetime_str = data_file.split('_')[-1]  # get 'YYYYMMDDHHMM' part\n",
        "        datetime_obj = datetime.strptime(datetime_str, '%Y%m%d%H%M')\n",
        "\n",
        "        # Complete path to the file\n",
        "        aws_nexrad_level3_precip_file = base_dir + folder + '/' + data_file\n",
        "\n",
        "        # Read the data using PyART\n",
        "        radar_level3_precip = pyart.io.read_nexrad_level3(aws_nexrad_level3_precip_file)\n",
        "\n",
        "        # Get radar gate (data point) information\n",
        "        azimuths = radar_level3_precip.azimuth['data']\n",
        "        ranges = radar_level3_precip.range['data']\n",
        "        elevation = radar_level3_precip.elevation['data'][0]  # assuming all elevations are the same\n",
        "\n",
        "        # Get radar location\n",
        "        radar_lon = radar_level3_precip.longitude['data'][0]\n",
        "        radar_lat = radar_level3_precip.latitude['data'][0]\n",
        "\n",
        "        # Define the WGS84 ellipsoid\n",
        "        wgs84 = pyproj.Proj(proj='latlong', datum='WGS84')\n",
        "\n",
        "        # Convert (azimuth, range, elevation) to (x, y, z) in the WGS84 projection\n",
        "        coords = wrl.georef.polar.spherical_to_proj(ranges, azimuths, elevation, (radar_lon, radar_lat))\n",
        "\n",
        "        lon = coords[..., 0]\n",
        "        lat = coords[..., 1]\n",
        "\n",
        "        # Obtain precipitation data\n",
        "        precip_data = radar_level3_precip.fields['radar_estimated_rain_rate']['data']\n",
        "\n",
        "        # Apply the mask to the precipitation data\n",
        "        masked_precip_data = ma.masked_array(precip_data, mask=radar_level3_precip.fields['radar_estimated_rain_rate']['data'].mask)\n",
        "\n",
        "        # Get the precipitation values without the masked values\n",
        "        precip_values = masked_precip_data.compressed()\n",
        "\n",
        "        # Apply the mask to lon and lat arrays\n",
        "        lon_masked = ma.masked_array(lon, mask=masked_precip_data.mask)\n",
        "        lat_masked = ma.masked_array(lat, mask=masked_precip_data.mask)\n",
        "\n",
        "        # Get the lon and lat values without the masked values\n",
        "        lon_values = lon_masked.compressed()\n",
        "        lat_values = lat_masked.compressed()\n",
        "\n",
        "        # Create a DataFrame for this file with columns 'Date', 'Time', 'Longitude', 'Latitude', and 'Precipitation'\n",
        "        data = {'DateTime': [datetime_obj]*len(lon_values),\n",
        "                'Longitude': lon_values,\n",
        "                'Latitude': lat_values,\n",
        "                'Precipitation': precip_values}\n",
        "        df = pd.DataFrame(data)\n",
        "\n",
        "        # Add the data from this file to the combined DataFrame\n",
        "        all_data = pd.concat([all_data, df])\n",
        "\n",
        "\n",
        "# Set DateTime as index\n",
        "all_data.set_index('DateTime', inplace=True)\n",
        "\n",
        "# Group by hour and sum precipitation\n",
        "grouped_data = all_data.groupby([pd.Grouper(freq='H'), 'Longitude', 'Latitude']).sum().reset_index()\n",
        "\n",
        "# Create a KDTree from target coordinates\n",
        "target_tree = cKDTree(target_coords)\n",
        "\n",
        "# Create a KDTree from precipitation coordinates\n",
        "precip_tree = cKDTree(grouped_data[['Latitude', 'Longitude']].values)\n",
        "\n",
        "# Get the distance and index of the closest target coordinate for each precipitation point\n",
        "distances, closest_points = target_tree.query(precip_tree.data, k=1)\n",
        "closest_points = closest_points.flatten()\n",
        "\n",
        "# Convert distances to a list\n",
        "distances = distances.tolist()\n",
        "\n",
        "# Add the closest target coordinates and distances to the DataFrame\n",
        "grouped_data['Target_Latitude'] = [latitudes[i] for i in closest_points]\n",
        "grouped_data['Target_Longitude'] = [longitudes[i] for i in closest_points]\n",
        "grouped_data['Distance'] = distances\n",
        "\n",
        "# Define a threshold distance (in the same units as your coordinates)\n",
        "threshold_distance = 0.01  # Adjust this value as needed\n",
        "\n",
        "# Select rows where the distance to the nearest target coordinate is below the threshold\n",
        "selected_data = grouped_data[grouped_data['Distance'] < threshold_distance]\n",
        "\n",
        "# Select the row with the minimum distance in each group\n",
        "selected_data = selected_data.loc[selected_data.groupby(['DateTime', 'Target_Latitude', 'Target_Longitude'])['Distance'].idxmin()]\n",
        "\n",
        "# Save the selected data to a CSV file\n",
        "grouped_data.to_csv(f'/content/drive/My Drive/L3 Data/total_precip_{season}_{batch}.csv', index=False)\n",
        "selected_data.to_csv(f'/content/drive/My Drive/L3 Data/selected_precip_{batch}.csv', index=False)\n",
        "\n",
        "# Display the data+\n",
        "print(selected_data)\n"
      ],
      "metadata": {
        "id": "1BSe77GFcrJu",
        "colab": {
          "base_uri": "https://localhost:8080/"
        },
        "outputId": "86cd6ef1-c6c1-450a-badd-e81708d2e3f3"
      },
      "execution_count": 7,
      "outputs": [
        {
          "output_type": "stream",
          "name": "stdout",
          "text": [
            "                   DateTime  Longitude   Latitude  Precipitation  \\\n",
            "486     2022-06-24 21:00:00 -95.174712  29.611160            0.0   \n",
            "234     2022-06-24 21:00:00 -95.270402  29.729109            0.0   \n",
            "2522    2022-06-24 22:00:00 -95.236818  29.514109            0.0   \n",
            "2857    2022-06-24 22:00:00 -95.163372  29.616663            0.0   \n",
            "2435    2022-06-24 22:00:00 -95.270402  29.729109            0.0   \n",
            "...                     ...        ...        ...            ...   \n",
            "2191854 2022-07-03 22:00:00 -95.651700  29.623750            0.0   \n",
            "2192223 2022-07-03 22:00:00 -95.386201  29.713108            0.0   \n",
            "2192390 2022-07-03 22:00:00 -95.270402  29.729109            0.0   \n",
            "2196323 2022-07-03 23:00:00 -95.171919  29.612601            0.0   \n",
            "2195869 2022-07-03 23:00:00 -95.386201  29.713108            0.0   \n",
            "\n",
            "         Target_Latitude  Target_Longitude  Distance  \n",
            "486             29.61667          -95.1667  0.009724  \n",
            "234             29.72600          -95.2660  0.005389  \n",
            "2522            29.51924          -95.2423  0.007509  \n",
            "2857            29.61667          -95.1667  0.003328  \n",
            "2435            29.72600          -95.2660  0.005389  \n",
            "...                  ...               ...       ...  \n",
            "2191854         29.61971          -95.6575  0.007068  \n",
            "2192223         29.71700          -95.3830  0.005039  \n",
            "2192390         29.72600          -95.2660  0.005389  \n",
            "2196323         29.61667          -95.1667  0.006618  \n",
            "2195869         29.71700          -95.3830  0.005039  \n",
            "\n",
            "[1063 rows x 7 columns]\n"
          ]
        }
      ]
    },
    {
      "cell_type": "code",
      "source": [],
      "metadata": {
        "id": "lJUfPDDWKFbk"
      },
      "execution_count": null,
      "outputs": []
    }
  ]
}