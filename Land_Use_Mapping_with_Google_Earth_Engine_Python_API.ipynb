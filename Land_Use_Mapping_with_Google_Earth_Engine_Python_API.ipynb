{
  "nbformat": 4,
  "nbformat_minor": 0,
  "metadata": {
    "colab": {
      "provenance": [],
      "authorship_tag": "ABX9TyNKYcQqkqBGZqHH5NYjvjaB",
      "include_colab_link": true
    },
    "kernelspec": {
      "name": "python3",
      "display_name": "Python 3"
    },
    "language_info": {
      "name": "python"
    },
    "widgets": {
      "application/vnd.jupyter.widget-state+json": {
        "c01ed674915b4015a483eaf2a3b7a2c9": {
          "model_module": "jupyter-leaflet",
          "model_name": "LeafletMapModel",
          "model_module_version": "^0.17",
          "state": {
            "_dom_classes": [],
            "_model_module": "jupyter-leaflet",
            "_model_module_version": "^0.17",
            "_model_name": "LeafletMapModel",
            "_view_count": null,
            "_view_module": "jupyter-leaflet",
            "_view_module_version": "^0.17",
            "_view_name": "LeafletMapView",
            "bottom": 1408,
            "bounce_at_zoom_limits": true,
            "box_zoom": true,
            "center": [
              -14.604847155053898,
              -139.30664062500003
            ],
            "close_popup_on_click": true,
            "controls": [
              "IPY_MODEL_44331908a54d4485813a7dcb9bdd26cf",
              "IPY_MODEL_f3555e0005004f008ed7a07b24b482e3",
              "IPY_MODEL_7727b50200e54e1196d0a5dbb4e54b2f",
              "IPY_MODEL_d87dcc12fac54897a94b93d5111dc4bf",
              "IPY_MODEL_15ce530b66bb437da8746b58c4f0e700",
              "IPY_MODEL_cc1c1c2af6774de4b0f20659ee6317fd",
              "IPY_MODEL_4d73b3d3143a4de18dd5c6a240aa3880",
              "IPY_MODEL_ed2ca6c8f92f45e9be32491642d415cc",
              "IPY_MODEL_c2ed7fe9255d4ca0b5247c33086af9e9"
            ],
            "crs": {
              "name": "EPSG3857",
              "custom": false
            },
            "default_style": "IPY_MODEL_e97f159cfa0d4f1f90d17cbf2cdd430e",
            "double_click_zoom": true,
            "dragging": true,
            "dragging_style": "IPY_MODEL_1337d2413ef74210a2e549471acfd652",
            "east": -18.105468750000004,
            "fullscreen": false,
            "inertia": true,
            "inertia_deceleration": 3000,
            "inertia_max_speed": 1500,
            "interpolation": "bilinear",
            "keyboard": true,
            "keyboard_pan_offset": 80,
            "keyboard_zoom_offset": 1,
            "layers": [
              "IPY_MODEL_957ab4bda55d4eb9877e5d9b73188e74",
              "IPY_MODEL_48c8d31ef9cf41ceb1a82a5aabdab85c",
              "IPY_MODEL_a9521ddb23414e4683e4c18c73e1ed7c"
            ],
            "layout": "IPY_MODEL_800a4e259a394031bb1a040f7339ab71",
            "left": -458,
            "max_zoom": 24,
            "min_zoom": null,
            "modisdate": "2023-06-01",
            "north": 35.460669951495305,
            "options": [
              "bounce_at_zoom_limits",
              "box_zoom",
              "center",
              "close_popup_on_click",
              "double_click_zoom",
              "dragging",
              "fullscreen",
              "inertia",
              "inertia_deceleration",
              "inertia_max_speed",
              "interpolation",
              "keyboard",
              "keyboard_pan_offset",
              "keyboard_zoom_offset",
              "max_zoom",
              "min_zoom",
              "prefer_canvas",
              "scroll_wheel_zoom",
              "tap",
              "tap_tolerance",
              "touch_zoom",
              "world_copy_jump",
              "zoom",
              "zoom_animation_threshold",
              "zoom_delta",
              "zoom_snap"
            ],
            "panes": {},
            "prefer_canvas": false,
            "right": 921,
            "scroll_wheel_zoom": true,
            "south": -55.7765730186677,
            "style": "IPY_MODEL_e97f159cfa0d4f1f90d17cbf2cdd430e",
            "tap": true,
            "tap_tolerance": 15,
            "top": 808,
            "touch_zoom": true,
            "west": -260.50781250000006,
            "window_url": "https://r3qheuk7hel-496ff2e9c6d22116-0-colab.googleusercontent.com/outputframe.html?vrz=colab-20230530-060140-RC00_536351130",
            "world_copy_jump": false,
            "zoom": 3,
            "zoom_animation_threshold": 4,
            "zoom_delta": 1,
            "zoom_snap": 1
          }
        },
        "44331908a54d4485813a7dcb9bdd26cf": {
          "model_module": "jupyter-leaflet",
          "model_name": "LeafletWidgetControlModel",
          "model_module_version": "^0.17",
          "state": {
            "_model_module": "jupyter-leaflet",
            "_model_module_version": "^0.17",
            "_model_name": "LeafletWidgetControlModel",
            "_view_count": null,
            "_view_module": "jupyter-leaflet",
            "_view_module_version": "^0.17",
            "_view_name": "LeafletWidgetControlView",
            "max_height": null,
            "max_width": null,
            "min_height": null,
            "min_width": null,
            "options": [
              "position",
              "transparent_bg"
            ],
            "position": "topleft",
            "transparent_bg": false,
            "widget": "IPY_MODEL_b889567daf534cd196f90a873150afdf"
          }
        },
        "f3555e0005004f008ed7a07b24b482e3": {
          "model_module": "jupyter-leaflet",
          "model_name": "LeafletZoomControlModel",
          "model_module_version": "^0.17",
          "state": {
            "_model_module": "jupyter-leaflet",
            "_model_module_version": "^0.17",
            "_model_name": "LeafletZoomControlModel",
            "_view_count": null,
            "_view_module": "jupyter-leaflet",
            "_view_module_version": "^0.17",
            "_view_name": "LeafletZoomControlView",
            "options": [
              "position",
              "zoom_in_text",
              "zoom_in_title",
              "zoom_out_text",
              "zoom_out_title"
            ],
            "position": "topleft",
            "zoom_in_text": "+",
            "zoom_in_title": "Zoom in",
            "zoom_out_text": "-",
            "zoom_out_title": "Zoom out"
          }
        },
        "7727b50200e54e1196d0a5dbb4e54b2f": {
          "model_module": "jupyter-leaflet",
          "model_name": "LeafletScaleControlModel",
          "model_module_version": "^0.17",
          "state": {
            "_model_module": "jupyter-leaflet",
            "_model_module_version": "^0.17",
            "_model_name": "LeafletScaleControlModel",
            "_view_count": null,
            "_view_module": "jupyter-leaflet",
            "_view_module_version": "^0.17",
            "_view_name": "LeafletScaleControlView",
            "imperial": true,
            "max_width": 100,
            "metric": true,
            "options": [
              "imperial",
              "max_width",
              "metric",
              "position",
              "update_when_idle"
            ],
            "position": "bottomleft",
            "update_when_idle": false
          }
        },
        "d87dcc12fac54897a94b93d5111dc4bf": {
          "model_module": "jupyter-leaflet",
          "model_name": "LeafletFullScreenControlModel",
          "model_module_version": "^0.17",
          "state": {
            "_model_module": "jupyter-leaflet",
            "_model_module_version": "^0.17",
            "_model_name": "LeafletFullScreenControlModel",
            "_view_count": null,
            "_view_module": "jupyter-leaflet",
            "_view_module_version": "^0.17",
            "_view_name": "LeafletFullScreenControlView",
            "options": [
              "position"
            ],
            "position": "topleft"
          }
        },
        "15ce530b66bb437da8746b58c4f0e700": {
          "model_module": "jupyter-leaflet",
          "model_name": "LeafletMeasureControlModel",
          "model_module_version": "^0.17",
          "state": {
            "_custom_units": {},
            "_model_module": "jupyter-leaflet",
            "_model_module_version": "^0.17",
            "_model_name": "LeafletMeasureControlModel",
            "_view_count": null,
            "_view_module": "jupyter-leaflet",
            "_view_module_version": "^0.17",
            "_view_name": "LeafletMeasureControlView",
            "active_color": "orange",
            "capture_z_index": 10000,
            "completed_color": "#C8F2BE",
            "options": [
              "active_color",
              "capture_z_index",
              "completed_color",
              "popup_options",
              "position",
              "primary_area_unit",
              "primary_length_unit",
              "secondary_area_unit",
              "secondary_length_unit"
            ],
            "popup_options": {
              "className": "leaflet-measure-resultpopup",
              "autoPanPadding": [
                10,
                10
              ]
            },
            "position": "bottomleft",
            "primary_area_unit": "acres",
            "primary_length_unit": "kilometers",
            "secondary_area_unit": null,
            "secondary_length_unit": null
          }
        },
        "cc1c1c2af6774de4b0f20659ee6317fd": {
          "model_module": "jupyter-leaflet",
          "model_name": "LeafletAttributionControlModel",
          "model_module_version": "^0.17",
          "state": {
            "_model_module": "jupyter-leaflet",
            "_model_module_version": "^0.17",
            "_model_name": "LeafletAttributionControlModel",
            "_view_count": null,
            "_view_module": "jupyter-leaflet",
            "_view_module_version": "^0.17",
            "_view_name": "LeafletAttributionControlView",
            "options": [
              "position",
              "prefix"
            ],
            "position": "bottomright",
            "prefix": "ipyleaflet"
          }
        },
        "4d73b3d3143a4de18dd5c6a240aa3880": {
          "model_module": "jupyter-leaflet",
          "model_name": "LeafletDrawControlModel",
          "model_module_version": "^0.17",
          "state": {
            "_model_module": "jupyter-leaflet",
            "_model_module_version": "^0.17",
            "_model_name": "LeafletDrawControlModel",
            "_view_count": null,
            "_view_module": "jupyter-leaflet",
            "_view_module_version": "^0.17",
            "_view_name": "LeafletDrawControlView",
            "circle": {
              "shapeOptions": {
                "color": "#3388ff"
              }
            },
            "circlemarker": {},
            "data": [],
            "edit": true,
            "marker": {
              "shapeOptions": {
                "color": "#3388ff"
              }
            },
            "options": [
              "position"
            ],
            "polygon": {
              "shapeOptions": {}
            },
            "polyline": {
              "shapeOptions": {}
            },
            "position": "topleft",
            "rectangle": {
              "shapeOptions": {
                "color": "#3388ff"
              }
            },
            "remove": true
          }
        },
        "ed2ca6c8f92f45e9be32491642d415cc": {
          "model_module": "jupyter-leaflet",
          "model_name": "LeafletWidgetControlModel",
          "model_module_version": "^0.17",
          "state": {
            "_model_module": "jupyter-leaflet",
            "_model_module_version": "^0.17",
            "_model_name": "LeafletWidgetControlModel",
            "_view_count": null,
            "_view_module": "jupyter-leaflet",
            "_view_module_version": "^0.17",
            "_view_name": "LeafletWidgetControlView",
            "max_height": null,
            "max_width": null,
            "min_height": null,
            "min_width": null,
            "options": [
              "position",
              "transparent_bg"
            ],
            "position": "topright",
            "transparent_bg": false,
            "widget": "IPY_MODEL_cc0e6985d89b483fba4338d50ac1120d"
          }
        },
        "c2ed7fe9255d4ca0b5247c33086af9e9": {
          "model_module": "jupyter-leaflet",
          "model_name": "LeafletWidgetControlModel",
          "model_module_version": "^0.17",
          "state": {
            "_model_module": "jupyter-leaflet",
            "_model_module_version": "^0.17",
            "_model_name": "LeafletWidgetControlModel",
            "_view_count": null,
            "_view_module": "jupyter-leaflet",
            "_view_module_version": "^0.17",
            "_view_name": "LeafletWidgetControlView",
            "max_height": null,
            "max_width": null,
            "min_height": null,
            "min_width": null,
            "options": [
              "position",
              "transparent_bg"
            ],
            "position": "bottomright",
            "transparent_bg": false,
            "widget": "IPY_MODEL_a1218dfc3864434ba846544ac1fc77ca"
          }
        },
        "e97f159cfa0d4f1f90d17cbf2cdd430e": {
          "model_module": "jupyter-leaflet",
          "model_name": "LeafletMapStyleModel",
          "model_module_version": "^0.17",
          "state": {
            "_model_module": "jupyter-leaflet",
            "_model_module_version": "^0.17",
            "_model_name": "LeafletMapStyleModel",
            "_view_count": null,
            "_view_module": "@jupyter-widgets/base",
            "_view_module_version": "1.2.0",
            "_view_name": "StyleView",
            "cursor": "grab"
          }
        },
        "1337d2413ef74210a2e549471acfd652": {
          "model_module": "jupyter-leaflet",
          "model_name": "LeafletMapStyleModel",
          "model_module_version": "^0.17",
          "state": {
            "_model_module": "jupyter-leaflet",
            "_model_module_version": "^0.17",
            "_model_name": "LeafletMapStyleModel",
            "_view_count": null,
            "_view_module": "@jupyter-widgets/base",
            "_view_module_version": "1.2.0",
            "_view_name": "StyleView",
            "cursor": "move"
          }
        },
        "957ab4bda55d4eb9877e5d9b73188e74": {
          "model_module": "jupyter-leaflet",
          "model_name": "LeafletTileLayerModel",
          "model_module_version": "^0.17",
          "state": {
            "_model_module": "jupyter-leaflet",
            "_model_module_version": "^0.17",
            "_model_name": "LeafletTileLayerModel",
            "_view_count": null,
            "_view_module": "jupyter-leaflet",
            "_view_module_version": "^0.17",
            "_view_name": "LeafletTileLayerView",
            "attribution": "&copy; <a href=\"https://www.openstreetmap.org/copyright\">OpenStreetMap</a> contributors",
            "base": true,
            "bottom": true,
            "bounds": null,
            "detect_retina": false,
            "loading": false,
            "max_native_zoom": null,
            "max_zoom": 19,
            "min_native_zoom": null,
            "min_zoom": 1,
            "name": "OpenStreetMap.Mapnik",
            "no_wrap": false,
            "opacity": 1,
            "options": [
              "attribution",
              "bounds",
              "detect_retina",
              "max_native_zoom",
              "max_zoom",
              "min_native_zoom",
              "min_zoom",
              "no_wrap",
              "tile_size",
              "tms",
              "zoom_offset"
            ],
            "pane": "",
            "popup": null,
            "popup_max_height": null,
            "popup_max_width": 300,
            "popup_min_width": 50,
            "show_loading": false,
            "subitems": [],
            "tile_size": 256,
            "tms": false,
            "url": "https://tile.openstreetmap.org/{z}/{x}/{y}.png",
            "visible": true,
            "zoom_offset": 0
          }
        },
        "48c8d31ef9cf41ceb1a82a5aabdab85c": {
          "model_module": "jupyter-leaflet",
          "model_name": "LeafletTileLayerModel",
          "model_module_version": "^0.17",
          "state": {
            "_model_module": "jupyter-leaflet",
            "_model_module_version": "^0.17",
            "_model_name": "LeafletTileLayerModel",
            "_view_count": null,
            "_view_module": "jupyter-leaflet",
            "_view_module_version": "^0.17",
            "_view_name": "LeafletTileLayerView",
            "attribution": "Google",
            "base": false,
            "bottom": true,
            "bounds": null,
            "detect_retina": false,
            "loading": false,
            "max_native_zoom": null,
            "max_zoom": 24,
            "min_native_zoom": null,
            "min_zoom": 0,
            "name": "Google Maps",
            "no_wrap": false,
            "opacity": 1,
            "options": [
              "attribution",
              "bounds",
              "detect_retina",
              "max_native_zoom",
              "max_zoom",
              "min_native_zoom",
              "min_zoom",
              "no_wrap",
              "tile_size",
              "tms",
              "zoom_offset"
            ],
            "pane": "",
            "popup": null,
            "popup_max_height": null,
            "popup_max_width": 300,
            "popup_min_width": 50,
            "show_loading": false,
            "subitems": [],
            "tile_size": 256,
            "tms": false,
            "url": "https://mt1.google.com/vt/lyrs=m&x={x}&y={y}&z={z}",
            "visible": true,
            "zoom_offset": 0
          }
        },
        "a9521ddb23414e4683e4c18c73e1ed7c": {
          "model_module": "jupyter-leaflet",
          "model_name": "LeafletTileLayerModel",
          "model_module_version": "^0.17",
          "state": {
            "_model_module": "jupyter-leaflet",
            "_model_module_version": "^0.17",
            "_model_name": "LeafletTileLayerModel",
            "_view_count": null,
            "_view_module": "jupyter-leaflet",
            "_view_module_version": "^0.17",
            "_view_name": "LeafletTileLayerView",
            "attribution": "Google Earth Engine",
            "base": false,
            "bottom": true,
            "bounds": null,
            "detect_retina": false,
            "loading": false,
            "max_native_zoom": null,
            "max_zoom": 24,
            "min_native_zoom": null,
            "min_zoom": 0,
            "name": "SRTM DEM",
            "no_wrap": false,
            "opacity": 1,
            "options": [
              "attribution",
              "bounds",
              "detect_retina",
              "max_native_zoom",
              "max_zoom",
              "min_native_zoom",
              "min_zoom",
              "no_wrap",
              "tile_size",
              "tms",
              "zoom_offset"
            ],
            "pane": "",
            "popup": null,
            "popup_max_height": null,
            "popup_max_width": 300,
            "popup_min_width": 50,
            "show_loading": false,
            "subitems": [],
            "tile_size": 256,
            "tms": false,
            "url": "https://earthengine.googleapis.com/v1alpha/projects/earthengine-legacy/maps/d482e9b4245da3afe810e42aac532370-170385d7b1e6fdb2bde6013e1b3b28b8/tiles/{z}/{x}/{y}",
            "visible": true,
            "zoom_offset": 0
          }
        },
        "800a4e259a394031bb1a040f7339ab71": {
          "model_module": "@jupyter-widgets/base",
          "model_name": "LayoutModel",
          "model_module_version": "1.2.0",
          "state": {
            "_model_module": "@jupyter-widgets/base",
            "_model_module_version": "1.2.0",
            "_model_name": "LayoutModel",
            "_view_count": null,
            "_view_module": "@jupyter-widgets/base",
            "_view_module_version": "1.2.0",
            "_view_name": "LayoutView",
            "align_content": null,
            "align_items": null,
            "align_self": null,
            "border": null,
            "bottom": null,
            "display": null,
            "flex": null,
            "flex_flow": null,
            "grid_area": null,
            "grid_auto_columns": null,
            "grid_auto_flow": null,
            "grid_auto_rows": null,
            "grid_column": null,
            "grid_gap": null,
            "grid_row": null,
            "grid_template_areas": null,
            "grid_template_columns": null,
            "grid_template_rows": null,
            "height": "600px",
            "justify_content": null,
            "justify_items": null,
            "left": null,
            "margin": null,
            "max_height": null,
            "max_width": null,
            "min_height": null,
            "min_width": null,
            "object_fit": null,
            "object_position": null,
            "order": null,
            "overflow": null,
            "overflow_x": null,
            "overflow_y": null,
            "padding": null,
            "right": null,
            "top": null,
            "visibility": null,
            "width": null
          }
        },
        "b07fe7d565d54c9aac9acb5cb15c2068": {
          "model_module": "jupyter-leaflet",
          "model_name": "LeafletMapStyleModel",
          "model_module_version": "^0.17",
          "state": {
            "_model_module": "jupyter-leaflet",
            "_model_module_version": "^0.17",
            "_model_name": "LeafletMapStyleModel",
            "_view_count": null,
            "_view_module": "@jupyter-widgets/base",
            "_view_module_version": "1.2.0",
            "_view_name": "StyleView",
            "cursor": "grab"
          }
        },
        "b889567daf534cd196f90a873150afdf": {
          "model_module": "@jupyter-widgets/controls",
          "model_name": "HBoxModel",
          "model_module_version": "1.5.0",
          "state": {
            "_dom_classes": [],
            "_model_module": "@jupyter-widgets/controls",
            "_model_module_version": "1.5.0",
            "_model_name": "HBoxModel",
            "_view_count": null,
            "_view_module": "@jupyter-widgets/controls",
            "_view_module_version": "1.5.0",
            "_view_name": "HBoxView",
            "box_style": "",
            "children": [
              "IPY_MODEL_cb5d7730fab24fefb85fe0a267906bd4"
            ],
            "layout": "IPY_MODEL_27db5e71c5c44cb1ad9583592a51fdec"
          }
        },
        "cc0e6985d89b483fba4338d50ac1120d": {
          "model_module": "@jupyter-widgets/controls",
          "model_name": "VBoxModel",
          "model_module_version": "1.5.0",
          "state": {
            "_dom_classes": [],
            "_model_module": "@jupyter-widgets/controls",
            "_model_module_version": "1.5.0",
            "_model_name": "VBoxModel",
            "_view_count": null,
            "_view_module": "@jupyter-widgets/controls",
            "_view_module_version": "1.5.0",
            "_view_name": "VBoxView",
            "box_style": "",
            "children": [
              "IPY_MODEL_cefa39327c68477692ca3cb70074ef1e"
            ],
            "layout": "IPY_MODEL_8d51e84a9d604686b0403b43f07c4c04"
          }
        },
        "a1218dfc3864434ba846544ac1fc77ca": {
          "model_module": "@jupyter-widgets/output",
          "model_name": "OutputModel",
          "model_module_version": "1.0.0",
          "state": {
            "_dom_classes": [],
            "_model_module": "@jupyter-widgets/output",
            "_model_module_version": "1.0.0",
            "_model_name": "OutputModel",
            "_view_count": null,
            "_view_module": "@jupyter-widgets/output",
            "_view_module_version": "1.0.0",
            "_view_name": "OutputView",
            "layout": "IPY_MODEL_f361fd848e1241e097dc6abc6f4e4335",
            "msg_id": "",
            "outputs": [
              {
                "output_type": "display_data",
                "data": {
                  "text/plain": "<Figure size 300x30 with 1 Axes>",
                  "image/png": "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\n"
                },
                "metadata": {}
              }
            ]
          }
        },
        "cb5d7730fab24fefb85fe0a267906bd4": {
          "model_module": "@jupyter-widgets/controls",
          "model_name": "ToggleButtonModel",
          "model_module_version": "1.5.0",
          "state": {
            "_dom_classes": [],
            "_model_module": "@jupyter-widgets/controls",
            "_model_module_version": "1.5.0",
            "_model_name": "ToggleButtonModel",
            "_view_count": null,
            "_view_module": "@jupyter-widgets/controls",
            "_view_module_version": "1.5.0",
            "_view_name": "ToggleButtonView",
            "button_style": "",
            "description": "",
            "description_tooltip": null,
            "disabled": false,
            "icon": "globe",
            "layout": "IPY_MODEL_a12934eb9a4f437f8fd79e3f94803cf8",
            "style": "IPY_MODEL_609f76aa7db040b9a529e0dc4733b7c4",
            "tooltip": "Search location/data",
            "value": false
          }
        },
        "27db5e71c5c44cb1ad9583592a51fdec": {
          "model_module": "@jupyter-widgets/base",
          "model_name": "LayoutModel",
          "model_module_version": "1.2.0",
          "state": {
            "_model_module": "@jupyter-widgets/base",
            "_model_module_version": "1.2.0",
            "_model_name": "LayoutModel",
            "_view_count": null,
            "_view_module": "@jupyter-widgets/base",
            "_view_module_version": "1.2.0",
            "_view_name": "LayoutView",
            "align_content": null,
            "align_items": null,
            "align_self": null,
            "border": null,
            "bottom": null,
            "display": null,
            "flex": null,
            "flex_flow": null,
            "grid_area": null,
            "grid_auto_columns": null,
            "grid_auto_flow": null,
            "grid_auto_rows": null,
            "grid_column": null,
            "grid_gap": null,
            "grid_row": null,
            "grid_template_areas": null,
            "grid_template_columns": null,
            "grid_template_rows": null,
            "height": null,
            "justify_content": null,
            "justify_items": null,
            "left": null,
            "margin": null,
            "max_height": null,
            "max_width": null,
            "min_height": null,
            "min_width": null,
            "object_fit": null,
            "object_position": null,
            "order": null,
            "overflow": null,
            "overflow_x": null,
            "overflow_y": null,
            "padding": null,
            "right": null,
            "top": null,
            "visibility": null,
            "width": null
          }
        },
        "cefa39327c68477692ca3cb70074ef1e": {
          "model_module": "@jupyter-widgets/controls",
          "model_name": "ToggleButtonModel",
          "model_module_version": "1.5.0",
          "state": {
            "_dom_classes": [],
            "_model_module": "@jupyter-widgets/controls",
            "_model_module_version": "1.5.0",
            "_model_name": "ToggleButtonModel",
            "_view_count": null,
            "_view_module": "@jupyter-widgets/controls",
            "_view_module_version": "1.5.0",
            "_view_name": "ToggleButtonView",
            "button_style": "",
            "description": "",
            "description_tooltip": null,
            "disabled": false,
            "icon": "wrench",
            "layout": "IPY_MODEL_86c092d0eb4e428aa9424fa5d9398796",
            "style": "IPY_MODEL_6a758f78780f4f759ac4dbce712f4d9a",
            "tooltip": "Toolbar",
            "value": false
          }
        },
        "8d51e84a9d604686b0403b43f07c4c04": {
          "model_module": "@jupyter-widgets/base",
          "model_name": "LayoutModel",
          "model_module_version": "1.2.0",
          "state": {
            "_model_module": "@jupyter-widgets/base",
            "_model_module_version": "1.2.0",
            "_model_name": "LayoutModel",
            "_view_count": null,
            "_view_module": "@jupyter-widgets/base",
            "_view_module_version": "1.2.0",
            "_view_name": "LayoutView",
            "align_content": null,
            "align_items": null,
            "align_self": null,
            "border": null,
            "bottom": null,
            "display": null,
            "flex": null,
            "flex_flow": null,
            "grid_area": null,
            "grid_auto_columns": null,
            "grid_auto_flow": null,
            "grid_auto_rows": null,
            "grid_column": null,
            "grid_gap": null,
            "grid_row": null,
            "grid_template_areas": null,
            "grid_template_columns": null,
            "grid_template_rows": null,
            "height": null,
            "justify_content": null,
            "justify_items": null,
            "left": null,
            "margin": null,
            "max_height": null,
            "max_width": null,
            "min_height": null,
            "min_width": null,
            "object_fit": null,
            "object_position": null,
            "order": null,
            "overflow": null,
            "overflow_x": null,
            "overflow_y": null,
            "padding": null,
            "right": null,
            "top": null,
            "visibility": null,
            "width": null
          }
        },
        "f361fd848e1241e097dc6abc6f4e4335": {
          "model_module": "@jupyter-widgets/base",
          "model_name": "LayoutModel",
          "model_module_version": "1.2.0",
          "state": {
            "_model_module": "@jupyter-widgets/base",
            "_model_module_version": "1.2.0",
            "_model_name": "LayoutModel",
            "_view_count": null,
            "_view_module": "@jupyter-widgets/base",
            "_view_module_version": "1.2.0",
            "_view_name": "LayoutView",
            "align_content": null,
            "align_items": null,
            "align_self": null,
            "border": null,
            "bottom": null,
            "display": null,
            "flex": null,
            "flex_flow": null,
            "grid_area": null,
            "grid_auto_columns": null,
            "grid_auto_flow": null,
            "grid_auto_rows": null,
            "grid_column": null,
            "grid_gap": null,
            "grid_row": null,
            "grid_template_areas": null,
            "grid_template_columns": null,
            "grid_template_rows": null,
            "height": null,
            "justify_content": null,
            "justify_items": null,
            "left": null,
            "margin": null,
            "max_height": null,
            "max_width": null,
            "min_height": null,
            "min_width": null,
            "object_fit": null,
            "object_position": null,
            "order": null,
            "overflow": null,
            "overflow_x": null,
            "overflow_y": null,
            "padding": null,
            "right": null,
            "top": null,
            "visibility": null,
            "width": null
          }
        },
        "a12934eb9a4f437f8fd79e3f94803cf8": {
          "model_module": "@jupyter-widgets/base",
          "model_name": "LayoutModel",
          "model_module_version": "1.2.0",
          "state": {
            "_model_module": "@jupyter-widgets/base",
            "_model_module_version": "1.2.0",
            "_model_name": "LayoutModel",
            "_view_count": null,
            "_view_module": "@jupyter-widgets/base",
            "_view_module_version": "1.2.0",
            "_view_name": "LayoutView",
            "align_content": null,
            "align_items": null,
            "align_self": null,
            "border": null,
            "bottom": null,
            "display": null,
            "flex": null,
            "flex_flow": null,
            "grid_area": null,
            "grid_auto_columns": null,
            "grid_auto_flow": null,
            "grid_auto_rows": null,
            "grid_column": null,
            "grid_gap": null,
            "grid_row": null,
            "grid_template_areas": null,
            "grid_template_columns": null,
            "grid_template_rows": null,
            "height": "28px",
            "justify_content": null,
            "justify_items": null,
            "left": null,
            "margin": null,
            "max_height": null,
            "max_width": null,
            "min_height": null,
            "min_width": null,
            "object_fit": null,
            "object_position": null,
            "order": null,
            "overflow": null,
            "overflow_x": null,
            "overflow_y": null,
            "padding": "0px 0px 0px 4px",
            "right": null,
            "top": null,
            "visibility": null,
            "width": "28px"
          }
        },
        "609f76aa7db040b9a529e0dc4733b7c4": {
          "model_module": "@jupyter-widgets/controls",
          "model_name": "DescriptionStyleModel",
          "model_module_version": "1.5.0",
          "state": {
            "_model_module": "@jupyter-widgets/controls",
            "_model_module_version": "1.5.0",
            "_model_name": "DescriptionStyleModel",
            "_view_count": null,
            "_view_module": "@jupyter-widgets/base",
            "_view_module_version": "1.2.0",
            "_view_name": "StyleView",
            "description_width": ""
          }
        },
        "86c092d0eb4e428aa9424fa5d9398796": {
          "model_module": "@jupyter-widgets/base",
          "model_name": "LayoutModel",
          "model_module_version": "1.2.0",
          "state": {
            "_model_module": "@jupyter-widgets/base",
            "_model_module_version": "1.2.0",
            "_model_name": "LayoutModel",
            "_view_count": null,
            "_view_module": "@jupyter-widgets/base",
            "_view_module_version": "1.2.0",
            "_view_name": "LayoutView",
            "align_content": null,
            "align_items": null,
            "align_self": null,
            "border": null,
            "bottom": null,
            "display": null,
            "flex": null,
            "flex_flow": null,
            "grid_area": null,
            "grid_auto_columns": null,
            "grid_auto_flow": null,
            "grid_auto_rows": null,
            "grid_column": null,
            "grid_gap": null,
            "grid_row": null,
            "grid_template_areas": null,
            "grid_template_columns": null,
            "grid_template_rows": null,
            "height": "28px",
            "justify_content": null,
            "justify_items": null,
            "left": null,
            "margin": null,
            "max_height": null,
            "max_width": null,
            "min_height": null,
            "min_width": null,
            "object_fit": null,
            "object_position": null,
            "order": null,
            "overflow": null,
            "overflow_x": null,
            "overflow_y": null,
            "padding": "0px 0px 0px 4px",
            "right": null,
            "top": null,
            "visibility": null,
            "width": "28px"
          }
        },
        "6a758f78780f4f759ac4dbce712f4d9a": {
          "model_module": "@jupyter-widgets/controls",
          "model_name": "DescriptionStyleModel",
          "model_module_version": "1.5.0",
          "state": {
            "_model_module": "@jupyter-widgets/controls",
            "_model_module_version": "1.5.0",
            "_model_name": "DescriptionStyleModel",
            "_view_count": null,
            "_view_module": "@jupyter-widgets/base",
            "_view_module_version": "1.2.0",
            "_view_name": "StyleView",
            "description_width": ""
          }
        }
      }
    }
  },
  "cells": [
    {
      "cell_type": "markdown",
      "metadata": {
        "id": "view-in-github",
        "colab_type": "text"
      },
      "source": [
        "<a href=\"https://colab.research.google.com/github/oluwafemiomitusa/Google-Earth-Engine_Urbanization/blob/main/Land_Use_Mapping_with_Google_Earth_Engine_Python_API.ipynb\" target=\"_parent\"><img src=\"https://colab.research.google.com/assets/colab-badge.svg\" alt=\"Open In Colab\"/></a>"
      ]
    },
    {
      "cell_type": "code",
      "execution_count": null,
      "metadata": {
        "id": "IuuCEolfEe2C"
      },
      "outputs": [],
      "source": [
        "# import libraries\n",
        "\n",
        "import ee, geemap\n",
        "\n",
        "\n",
        "# Trigger ee authentication\n",
        "#ee.Authenticate()\n",
        "\n",
        "# Initialize ee library\n",
        "ee.Initialize()"
      ]
    },
    {
      "cell_type": "code",
      "source": [
        "# ROI\n",
        "roi = ee.Geometry.Point([-96, 29.2])  # ROI is Houston\n",
        "location = roi.centroid().coordinates().getInfo()[::-1]\n",
        "\n",
        "# Load Landsat 8 data\n",
        "bands = ['B1', 'B2', 'B3', 'B4', 'B5', 'B7']\n",
        "image = ee.ImageCollection('LANDSAT/LC08/C01/T1_SR') \\\n",
        ".filterDate('2021-01-01', '2021-12-31') \\\n",
        ".filterBounds(roi) \\\n",
        ".sort('CLOUD_COVER') \\\n",
        ".first()"
      ],
      "metadata": {
        "id": "lGJAjZqmFSmA"
      },
      "execution_count": null,
      "outputs": []
    },
    {
      "cell_type": "code",
      "source": [
        "print(location)"
      ],
      "metadata": {
        "colab": {
          "base_uri": "https://localhost:8080/"
        },
        "id": "IkplRXUPvJqH",
        "outputId": "128f4cb0-a367-4df8-f1a3-6fc20ec6394b"
      },
      "execution_count": null,
      "outputs": [
        {
          "output_type": "stream",
          "name": "stdout",
          "text": [
            "[29.200000000000003, -96.00000000000001]\n"
          ]
        }
      ]
    },
    {
      "cell_type": "code",
      "source": [
        "# Import ESRI Data\n",
        "lc = ee.ImageCollection(\"projects/sat-io/open-datasets/landcover/ESRI_Global-LULC_10m\").mosaic().clip(image.geometry())\n",
        "label = 'b1'\n",
        "\n",
        "#Sample the input imagery to get a FeatureCollection of training data.\n",
        "sample = image.addBands(lc).sample(**{\n",
        "    'region': image.geometry(),\n",
        "    'numPixels': 1000,\n",
        "    'seed': 0\n",
        "})\n",
        "\n",
        "# Add a random value field to the sample and use it to approximately split 80%\n",
        "# of the features into a training set and 20% i to a validation set.\n",
        "sample = sample.randomColumn()\n",
        "trainingSample = sample.filter('random <= 0.8')\n",
        "validationSample = sample.filter('random > 0.8')\n",
        "\n",
        "# Train a 10-tree random forest classifier from the training sample.\n",
        "trainedClassifier = ee.Classifier.smileRandomForest(10).train(**{\n",
        "    'features': trainingSample,\n",
        "    'classProperty': label,\n",
        "    'inputProperties': bands\n",
        "})\n",
        "\n",
        "# Classify the reflectance image from the trained classifier.\n",
        "model = image.classify(trainedClassifier)"
      ],
      "metadata": {
        "id": "FHriHQVVGzM3"
      },
      "execution_count": null,
      "outputs": []
    },
    {
      "cell_type": "code",
      "source": [
        "# Import the Folium library\n",
        "import folium\n",
        "\n",
        "# Define a method for displaying Earth ENgine Image tiles to folium map.\n",
        "def addLayer(self, ee_image_object, vis_params, name):\n",
        "  map_id_dict = ee.Image(ee_image_object).getMapId(vis_params)\n",
        "  folium.raster_layers.TileLayer(\n",
        "      tiles = map_id_dict['tile_fetcher'].url_format,\n",
        "      attr = 'Map Data &copy; <a href=\"https://earthengine.google.com/\">Google Earth Engine</a>',\n",
        "      name = name,\n",
        "      overlay = True,\n",
        "      control = True\n",
        "      ).add_to(self)\n",
        "\n",
        "# Create the map object\n",
        "Map = folium.Map(location=location, zoom_start = 8)\n",
        "\n",
        "# Add base map\n",
        "basemaps = {'Google Satellite Hybrid': folium.TileLayer(\n",
        "tiles = 'https://mt1.google.com/vt/lyrs=s&x={x}&y={y}&z={z}',\n",
        "attr = 'Google',\n",
        "name = 'Google Satellite Hybrid',\n",
        "overlay = True,\n",
        "control = True\n",
        ")}\n",
        "basemaps['Google Satellite Hybrid'].add_to(Map)\n",
        "  "
      ],
      "metadata": {
        "colab": {
          "base_uri": "https://localhost:8080/"
        },
        "id": "mob1IXDeKAxv",
        "outputId": "7a6833af-f0b5-40ae-d127-ffda07ada52a"
      },
      "execution_count": null,
      "outputs": [
        {
          "output_type": "execute_result",
          "data": {
            "text/plain": [
              "<folium.raster_layers.TileLayer at 0x7f04e82e7640>"
            ]
          },
          "metadata": {},
          "execution_count": 5
        }
      ]
    },
    {
      "cell_type": "code",
      "source": [
        "folium.Map.addLayer = addLayer\n",
        "\n",
        "# Define a dictionary which will be used to make lgend and visualize image on map.\n",
        "dict = {\n",
        "    \"names\": [\n",
        "        \"Water\",\n",
        "        \"Trees\",\n",
        "        \"Grass\",\n",
        "        \"Flooded Vegetation\",\n",
        "        \"Crops\",\n",
        "        \"Scrub/Shrub\",\n",
        "        \"Built Area\",\n",
        "        \"Bare Ground\",\n",
        "        \"Snow/ice\",\n",
        "        \"Clouds\"\n",
        "      ],\n",
        "\n",
        "      \"colors\": [\n",
        "          \"#1A5BAB\",\n",
        "          \"#358221\",\n",
        "          \"#A7D282\",\n",
        "          \"#87D19E\",\n",
        "          \"#FFDB5C\",\n",
        "          \"#EECFA8\",\n",
        "          \"#ED022A\",\n",
        "          \"#EDE9E4\",\n",
        "          \"#F2FAFF\",\n",
        "          \"#C8C8C8\"\n",
        "      ]}\n",
        "# Add land cover to the image object.\n",
        "\n",
        "#Map.addLayer(lc, {'min':1, 'max':10, 'pallete':dict['colors']}, 'ESRI LULC 10m')\n",
        "Map.addLayer(model, {'min': 1, 'max': 10, 'palette': dict['colors']}, 'Classified 2021')\n",
        "\n",
        "\n",
        "visParamsTrue = {'bands': ['B4', 'B3', 'B2'], 'min':0, 'max':3000, 'gamma':1.4}\n",
        "Map.addLayer(image, visParamsTrue, 'Landsat 2021')\n",
        "\n",
        "# Add a layer control panel to the map.\n",
        "Map.add_child(folium.LayerControl())\n",
        "\n",
        "# Display the map.\n",
        "display(Map)"
      ],
      "metadata": {
        "colab": {
          "base_uri": "https://localhost:8080/",
          "height": 847
        },
        "id": "aX3UtnmsMyeH",
        "outputId": "4595672f-e5a9-477a-fb00-364985a0c4b1"
      },
      "execution_count": null,
      "outputs": [
        {
          "output_type": "display_data",
          "data": {
            "text/plain": [
              "<folium.folium.Map at 0x7f04e82e6bf0>"
            ],
            "text/html": [
              "<div style=\"width:100%;\"><div style=\"position:relative;width:100%;height:0;padding-bottom:60%;\"><span style=\"color:#565656\">Make this Notebook Trusted to load map: File -> Trust Notebook</span><iframe srcdoc=\"&lt;!DOCTYPE html&gt;\n",
              "&lt;html&gt;\n",
              "&lt;head&gt;\n",
              "    \n",
              "    &lt;meta http-equiv=&quot;content-type&quot; content=&quot;text/html; charset=UTF-8&quot; /&gt;\n",
              "    \n",
              "        &lt;script&gt;\n",
              "            L_NO_TOUCH = false;\n",
              "            L_DISABLE_3D = false;\n",
              "        &lt;/script&gt;\n",
              "    \n",
              "    &lt;style&gt;html, body {width: 100%;height: 100%;margin: 0;padding: 0;}&lt;/style&gt;\n",
              "    &lt;style&gt;#map {position:absolute;top:0;bottom:0;right:0;left:0;}&lt;/style&gt;\n",
              "    &lt;script src=&quot;https://cdn.jsdelivr.net/npm/leaflet@1.9.3/dist/leaflet.js&quot;&gt;&lt;/script&gt;\n",
              "    &lt;script src=&quot;https://code.jquery.com/jquery-1.12.4.min.js&quot;&gt;&lt;/script&gt;\n",
              "    &lt;script src=&quot;https://cdn.jsdelivr.net/npm/bootstrap@5.2.2/dist/js/bootstrap.bundle.min.js&quot;&gt;&lt;/script&gt;\n",
              "    &lt;script src=&quot;https://cdnjs.cloudflare.com/ajax/libs/Leaflet.awesome-markers/2.0.2/leaflet.awesome-markers.js&quot;&gt;&lt;/script&gt;\n",
              "    &lt;link rel=&quot;stylesheet&quot; href=&quot;https://cdn.jsdelivr.net/npm/leaflet@1.9.3/dist/leaflet.css&quot;/&gt;\n",
              "    &lt;link rel=&quot;stylesheet&quot; href=&quot;https://cdn.jsdelivr.net/npm/bootstrap@5.2.2/dist/css/bootstrap.min.css&quot;/&gt;\n",
              "    &lt;link rel=&quot;stylesheet&quot; href=&quot;https://netdna.bootstrapcdn.com/bootstrap/3.0.0/css/bootstrap.min.css&quot;/&gt;\n",
              "    &lt;link rel=&quot;stylesheet&quot; href=&quot;https://cdn.jsdelivr.net/npm/@fortawesome/fontawesome-free@6.2.0/css/all.min.css&quot;/&gt;\n",
              "    &lt;link rel=&quot;stylesheet&quot; href=&quot;https://cdnjs.cloudflare.com/ajax/libs/Leaflet.awesome-markers/2.0.2/leaflet.awesome-markers.css&quot;/&gt;\n",
              "    &lt;link rel=&quot;stylesheet&quot; href=&quot;https://cdn.jsdelivr.net/gh/python-visualization/folium/folium/templates/leaflet.awesome.rotate.min.css&quot;/&gt;\n",
              "    \n",
              "            &lt;meta name=&quot;viewport&quot; content=&quot;width=device-width,\n",
              "                initial-scale=1.0, maximum-scale=1.0, user-scalable=no&quot; /&gt;\n",
              "            &lt;style&gt;\n",
              "                #map_23c432fa8d47dce13decee76614d29f4 {\n",
              "                    position: relative;\n",
              "                    width: 100.0%;\n",
              "                    height: 100.0%;\n",
              "                    left: 0.0%;\n",
              "                    top: 0.0%;\n",
              "                }\n",
              "                .leaflet-container { font-size: 1rem; }\n",
              "            &lt;/style&gt;\n",
              "        \n",
              "&lt;/head&gt;\n",
              "&lt;body&gt;\n",
              "    \n",
              "    \n",
              "            &lt;div class=&quot;folium-map&quot; id=&quot;map_23c432fa8d47dce13decee76614d29f4&quot; &gt;&lt;/div&gt;\n",
              "        \n",
              "&lt;/body&gt;\n",
              "&lt;script&gt;\n",
              "    \n",
              "    \n",
              "            var map_23c432fa8d47dce13decee76614d29f4 = L.map(\n",
              "                &quot;map_23c432fa8d47dce13decee76614d29f4&quot;,\n",
              "                {\n",
              "                    center: [29.200000000000003, -96.00000000000001],\n",
              "                    crs: L.CRS.EPSG3857,\n",
              "                    zoom: 8,\n",
              "                    zoomControl: true,\n",
              "                    preferCanvas: false,\n",
              "                }\n",
              "            );\n",
              "\n",
              "            \n",
              "\n",
              "        \n",
              "    \n",
              "            var tile_layer_5a49e8312644fe21410af39e72b8dec5 = L.tileLayer(\n",
              "                &quot;https://{s}.tile.openstreetmap.org/{z}/{x}/{y}.png&quot;,\n",
              "                {&quot;attribution&quot;: &quot;Data by \\u0026copy; \\u003ca target=\\&quot;_blank\\&quot; href=\\&quot;http://openstreetmap.org\\&quot;\\u003eOpenStreetMap\\u003c/a\\u003e, under \\u003ca target=\\&quot;_blank\\&quot; href=\\&quot;http://www.openstreetmap.org/copyright\\&quot;\\u003eODbL\\u003c/a\\u003e.&quot;, &quot;detectRetina&quot;: false, &quot;maxNativeZoom&quot;: 18, &quot;maxZoom&quot;: 18, &quot;minZoom&quot;: 0, &quot;noWrap&quot;: false, &quot;opacity&quot;: 1, &quot;subdomains&quot;: &quot;abc&quot;, &quot;tms&quot;: false}\n",
              "            ).addTo(map_23c432fa8d47dce13decee76614d29f4);\n",
              "        \n",
              "    \n",
              "            var tile_layer_4984e7cecf0acb3806096712eb194408 = L.tileLayer(\n",
              "                &quot;https://mt1.google.com/vt/lyrs=s\\u0026x={x}\\u0026y={y}\\u0026z={z}&quot;,\n",
              "                {&quot;attribution&quot;: &quot;Google&quot;, &quot;detectRetina&quot;: false, &quot;maxNativeZoom&quot;: 18, &quot;maxZoom&quot;: 18, &quot;minZoom&quot;: 0, &quot;noWrap&quot;: false, &quot;opacity&quot;: 1, &quot;subdomains&quot;: &quot;abc&quot;, &quot;tms&quot;: false}\n",
              "            ).addTo(map_23c432fa8d47dce13decee76614d29f4);\n",
              "        \n",
              "    \n",
              "            var tile_layer_ece136ada3c6ac6bce119caf02598405 = L.tileLayer(\n",
              "                &quot;https://earthengine.googleapis.com/v1alpha/projects/earthengine-legacy/maps/e76788c0a86d72bd33f67c57f0da6977-013180d363b996ab13a116d493abab49/tiles/{z}/{x}/{y}&quot;,\n",
              "                {&quot;attribution&quot;: &quot;Map Data \\u0026copy; \\u003ca href=\\&quot;https://earthengine.google.com/\\&quot;\\u003eGoogle Earth Engine\\u003c/a\\u003e&quot;, &quot;detectRetina&quot;: false, &quot;maxNativeZoom&quot;: 18, &quot;maxZoom&quot;: 18, &quot;minZoom&quot;: 0, &quot;noWrap&quot;: false, &quot;opacity&quot;: 1, &quot;subdomains&quot;: &quot;abc&quot;, &quot;tms&quot;: false}\n",
              "            ).addTo(map_23c432fa8d47dce13decee76614d29f4);\n",
              "        \n",
              "    \n",
              "            var tile_layer_a84dba261335eb08f8e4c7dfc9e83b43 = L.tileLayer(\n",
              "                &quot;https://earthengine.googleapis.com/v1alpha/projects/earthengine-legacy/maps/7a20487caf01f108b38617b9b4d9e3ed-81c4ed825e32955d81d8176d145cdfcf/tiles/{z}/{x}/{y}&quot;,\n",
              "                {&quot;attribution&quot;: &quot;Map Data \\u0026copy; \\u003ca href=\\&quot;https://earthengine.google.com/\\&quot;\\u003eGoogle Earth Engine\\u003c/a\\u003e&quot;, &quot;detectRetina&quot;: false, &quot;maxNativeZoom&quot;: 18, &quot;maxZoom&quot;: 18, &quot;minZoom&quot;: 0, &quot;noWrap&quot;: false, &quot;opacity&quot;: 1, &quot;subdomains&quot;: &quot;abc&quot;, &quot;tms&quot;: false}\n",
              "            ).addTo(map_23c432fa8d47dce13decee76614d29f4);\n",
              "        \n",
              "    \n",
              "            var layer_control_b5ad3d2309b66d0f37a61d1c15f10990 = {\n",
              "                base_layers : {\n",
              "                    &quot;openstreetmap&quot; : tile_layer_5a49e8312644fe21410af39e72b8dec5,\n",
              "                },\n",
              "                overlays :  {\n",
              "                    &quot;Google Satellite Hybrid&quot; : tile_layer_4984e7cecf0acb3806096712eb194408,\n",
              "                    &quot;Classified 2021&quot; : tile_layer_ece136ada3c6ac6bce119caf02598405,\n",
              "                    &quot;Landsat 2021&quot; : tile_layer_a84dba261335eb08f8e4c7dfc9e83b43,\n",
              "                },\n",
              "            };\n",
              "            L.control.layers(\n",
              "                layer_control_b5ad3d2309b66d0f37a61d1c15f10990.base_layers,\n",
              "                layer_control_b5ad3d2309b66d0f37a61d1c15f10990.overlays,\n",
              "                {&quot;autoZIndex&quot;: true, &quot;collapsed&quot;: true, &quot;position&quot;: &quot;topright&quot;}\n",
              "            ).addTo(map_23c432fa8d47dce13decee76614d29f4);\n",
              "        \n",
              "&lt;/script&gt;\n",
              "&lt;/html&gt;\" style=\"position:absolute;width:100%;height:100%;left:0;top:0;border:none !important;\" allowfullscreen webkitallowfullscreen mozallowfullscreen></iframe></div></div>"
            ]
          },
          "metadata": {}
        }
      ]
    },
    {
      "cell_type": "code",
      "source": [],
      "metadata": {
        "id": "2L1R2nJyuXu1"
      },
      "execution_count": null,
      "outputs": []
    },
    {
      "cell_type": "markdown",
      "source": [
        "# Add Color Bar to Map in Google Engine Python API"
      ],
      "metadata": {
        "id": "2f8U2LR9fHmy"
      }
    },
    {
      "cell_type": "code",
      "source": [
        "Map = geemap.Map()\n",
        "\n",
        "\n",
        "# Load countries data\n",
        "countries = ee.FeatureCollection(\"USDOS/LSIB_SIMPLE/2017\");\n",
        "roi = countries.filter(ee.Filter.eq(\"country_na\",\"United States\"));\n",
        "\n",
        "dem = ee.Image(\"USGS/SRTMGL1_003\").clip(roi)\n",
        "vis_params = {\n",
        "    'min': 0,\n",
        "    'max': 4000,\n",
        "    'palette': ['006633', 'E5FFCC', '662A00', 'D8D8D8', 'F5F5F5'],\n",
        "}\n",
        "\n",
        "Map.addLayer(dem, vis_params, 'SRTM DEM')\n",
        "\n",
        "colors = vis_params['palette']\n",
        "vmin = vis_params['min']\n",
        "vmax = vis_params['max']\n",
        "Map.add_colorbar(vis_params, label='Elevation (m)', layer_name=\"SRTM DEM\") # Horizontal orientation\n",
        "Map.centerObject(roi, 4)\n",
        "Map"
      ],
      "metadata": {
        "id": "z2u_2S6guXpA",
        "colab": {
          "base_uri": "https://localhost:8080/",
          "height": 621,
          "referenced_widgets": [
            "c01ed674915b4015a483eaf2a3b7a2c9",
            "44331908a54d4485813a7dcb9bdd26cf",
            "f3555e0005004f008ed7a07b24b482e3",
            "7727b50200e54e1196d0a5dbb4e54b2f",
            "d87dcc12fac54897a94b93d5111dc4bf",
            "15ce530b66bb437da8746b58c4f0e700",
            "cc1c1c2af6774de4b0f20659ee6317fd",
            "4d73b3d3143a4de18dd5c6a240aa3880",
            "ed2ca6c8f92f45e9be32491642d415cc",
            "c2ed7fe9255d4ca0b5247c33086af9e9",
            "e97f159cfa0d4f1f90d17cbf2cdd430e",
            "1337d2413ef74210a2e549471acfd652",
            "957ab4bda55d4eb9877e5d9b73188e74",
            "48c8d31ef9cf41ceb1a82a5aabdab85c",
            "a9521ddb23414e4683e4c18c73e1ed7c",
            "800a4e259a394031bb1a040f7339ab71",
            "b07fe7d565d54c9aac9acb5cb15c2068",
            "b889567daf534cd196f90a873150afdf",
            "cc0e6985d89b483fba4338d50ac1120d",
            "a1218dfc3864434ba846544ac1fc77ca",
            "cb5d7730fab24fefb85fe0a267906bd4",
            "27db5e71c5c44cb1ad9583592a51fdec",
            "cefa39327c68477692ca3cb70074ef1e",
            "8d51e84a9d604686b0403b43f07c4c04",
            "f361fd848e1241e097dc6abc6f4e4335",
            "a12934eb9a4f437f8fd79e3f94803cf8",
            "609f76aa7db040b9a529e0dc4733b7c4",
            "86c092d0eb4e428aa9424fa5d9398796",
            "6a758f78780f4f759ac4dbce712f4d9a"
          ]
        },
        "outputId": "b5288638-08d0-4522-f90a-5be7caa66821"
      },
      "execution_count": null,
      "outputs": [
        {
          "output_type": "display_data",
          "data": {
            "text/plain": [
              "Map(center=[39.76850680995396, -99.05366228420321], controls=(WidgetControl(options=['position', 'transparent_…"
            ],
            "application/vnd.jupyter.widget-view+json": {
              "version_major": 2,
              "version_minor": 0,
              "model_id": "c01ed674915b4015a483eaf2a3b7a2c9"
            }
          },
          "metadata": {
            "application/vnd.jupyter.widget-view+json": {
              "colab": {
                "custom_widget_manager": {
                  "url": "https://ssl.gstatic.com/colaboratory-static/widgets/colab-cdn-widget-manager/b3e629b1971e1542/manager.min.js"
                }
              }
            }
          }
        }
      ]
    }
  ]
}