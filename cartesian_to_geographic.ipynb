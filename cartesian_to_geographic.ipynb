{
  "nbformat": 4,
  "nbformat_minor": 0,
  "metadata": {
    "colab": {
      "provenance": [],
      "toc_visible": true,
      "authorship_tag": "ABX9TyP1mJXZceswMviValOWZdzm",
      "include_colab_link": true
    },
    "kernelspec": {
      "name": "python3",
      "display_name": "Python 3"
    },
    "language_info": {
      "name": "python"
    }
  },
  "cells": [
    {
      "cell_type": "markdown",
      "metadata": {
        "id": "view-in-github",
        "colab_type": "text"
      },
      "source": [
        "<a href=\"https://colab.research.google.com/github/oluwafemiomitusa/Google-Earth-Engine_Urbanization/blob/main/cartesian_to_geographic.ipynb\" target=\"_parent\"><img src=\"https://colab.research.google.com/assets/colab-badge.svg\" alt=\"Open In Colab\"/></a>"
      ]
    },
    {
      "cell_type": "code",
      "execution_count": 1,
      "metadata": {
        "colab": {
          "base_uri": "https://localhost:8080/"
        },
        "id": "eVFMsNHAUb_R",
        "outputId": "ee71863c-42ff-4ebe-b331-14fb8044ac80"
      },
      "outputs": [
        {
          "output_type": "stream",
          "name": "stdout",
          "text": [
            "Requirement already satisfied: pyproj in /usr/local/lib/python3.10/dist-packages (3.6.0)\n",
            "Requirement already satisfied: certifi in /usr/local/lib/python3.10/dist-packages (from pyproj) (2023.5.7)\n"
          ]
        }
      ],
      "source": [
        "pip install pyproj"
      ]
    },
    {
      "cell_type": "code",
      "source": [
        "import pyproj\n",
        "\n",
        "# Define the projection string\n",
        "projection_string = \"+proj=aea +lat_0=0 +lon_0=-95.3698 +lat_1=29.7604 +lat_2=29.7604 +x_0=0 +y_0=0 +ellps=krass +units=m +no_defs\"\n",
        "\n",
        "# Create a Proj object\n",
        "proj = pyproj.Proj(projection_string)\n",
        "\n",
        "# Define the geographical coordinates (lists)\n",
        "latitudes = [29.717, 29.64586, 29.61667, 29.98438, 30.06801, 29.51924, 29.5, 29.61971]  # Example latitudes\n",
        "longitudes = [-95.383.3698, -95.28212, -95.1667, -95.3607, -95.5563, -95.2423, -95.477, -95.6575]  # Example longitudes\n",
        "altitudes = [0.0, 0.0, 0.0]  # Example altitudes (assuming sea level)\n",
        "\n",
        "# Convert latitudes, longitudes, and altitudes to Cartesian coordinates\n",
        "coordinates = []\n",
        "for latitude, longitude, altitude in zip(latitudes, longitudes, altitudes):\n",
        "    x, y = proj(longitude, latitude, altitude, radians=False)\n",
        "    coordinates.append((x, y))\n",
        "\n",
        "# Print the Cartesian coordinates\n",
        "for i, (x, y) in enumerate(coordinates):\n",
        "    print(f\"Coordinates {i + 1}: X={x}, Y={y}\")\n"
      ],
      "metadata": {
        "colab": {
          "base_uri": "https://localhost:8080/"
        },
        "id": "7GDvYX-1UhkG",
        "outputId": "1d57471a-0d30-4b51-d283-65b354dc49e6"
      },
      "execution_count": 4,
      "outputs": [
        {
          "output_type": "stream",
          "name": "stdout",
          "text": [
            "Coordinates 1: X=0.0, Y=3199314.195691122\n",
            "Coordinates 2: X=1405131.0989829402, Y=3846652.4164650287\n",
            "Coordinates 3: X=1761647.4992824218, Y=4458071.315102542\n"
          ]
        }
      ]
    }
  ]
}