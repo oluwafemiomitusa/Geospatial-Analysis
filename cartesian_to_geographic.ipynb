{
  "nbformat": 4,
  "nbformat_minor": 0,
  "metadata": {
    "colab": {
      "provenance": [],
      "authorship_tag": "ABX9TyMhQkxE3Z7xfNc3e0AOfbjq",
      "include_colab_link": true
    },
    "kernelspec": {
      "name": "python3",
      "display_name": "Python 3"
    },
    "language_info": {
      "name": "python"
    }
  },
  "cells": [
    {
      "cell_type": "markdown",
      "metadata": {
        "id": "view-in-github",
        "colab_type": "text"
      },
      "source": [
        "<a href=\"https://colab.research.google.com/github/oluwafemiomitusa/Urbanization-and-Climate-Change/blob/main/cartesian_to_geographic.ipynb\" target=\"_parent\"><img src=\"https://colab.research.google.com/assets/colab-badge.svg\" alt=\"Open In Colab\"/></a>"
      ]
    },
    {
      "cell_type": "code",
      "execution_count": null,
      "metadata": {
        "colab": {
          "base_uri": "https://localhost:8080/"
        },
        "id": "eVFMsNHAUb_R",
        "outputId": "ee71863c-42ff-4ebe-b331-14fb8044ac80"
      },
      "outputs": [
        {
          "output_type": "stream",
          "name": "stdout",
          "text": [
            "Requirement already satisfied: pyproj in /usr/local/lib/python3.10/dist-packages (3.6.0)\n",
            "Requirement already satisfied: certifi in /usr/local/lib/python3.10/dist-packages (from pyproj) (2023.5.7)\n"
          ]
        }
      ],
      "source": [
        "pip install pyproj"
      ]
    },
    {
      "cell_type": "code",
      "source": [
        "import pyproj\n",
        "\n",
        "# Define the projection string\n",
        "projection_string = \"+proj=aea +lat_0=0 +lon_0=-95.3698 +lat_1=29.7604 +lat_2=29.7604 +x_0=0 +y_0=0 +ellps=krass +units=m +no_defs\"\n",
        "\n",
        "# Create a Proj object\n",
        "proj = pyproj.Proj(projection_string)\n",
        "\n",
        "# Define the geographical coordinates (lists)\n",
        "latitudes = [29.717, 29.64586, 29.61667, 29.98438, 30.06801, 29.51924, 29.5, 29.61971]  # Example latitudes\n",
        "longitudes = [-95.383, -95.28212, -95.1667, -95.3607, -95.5563, -95.2423, -95.477, -95.6575]  # Example longitudes\n",
        "\n",
        "# Convert latitudes, longitudes, and altitudes to Cartesian coordinates\n",
        "coordinates = []\n",
        "for latitude, longitude in zip(latitudes, longitudes):\n",
        "    x, y = proj(longitude, latitude, radians=False)\n",
        "    coordinates.append((x, y))\n",
        "\n",
        "# Print the Cartesian coordinates\n",
        "for i, (x, y) in enumerate(coordinates):\n",
        "    print(f\"Coordinates {i + 1}: {x}, {y}\")\n"
      ],
      "metadata": {
        "colab": {
          "base_uri": "https://localhost:8080/"
        },
        "id": "7GDvYX-1UhkG",
        "outputId": "c40fdd00-b1e5-48f6-94c7-59cace6214de"
      },
      "execution_count": null,
      "outputs": [
        {
          "output_type": "stream",
          "name": "stdout",
          "text": [
            "Coordinates 1: -1277.2388951768814, 3167943.2284226264\n",
            "Coordinates 2: 8489.951879005079, 3160060.5874214694\n",
            "Coordinates 3: 19671.62048415247, 3156839.0186616005\n",
            "Coordinates 4: 878.1840763710006, 3197582.7009804193\n",
            "Coordinates 5: -17982.961762739567, 3206867.8829988353\n",
            "Coordinates 6: 12361.177824295924, 3146028.76427377\n",
            "Coordinates 7: -10395.065660724782, 3143894.104411436\n",
            "Coordinates 8: -27864.853228638654, 3157193.4149715956\n"
          ]
        }
      ]
    },
    {
      "cell_type": "markdown",
      "source": [
        "# Add 2km to the WGS84 coordinates."
      ],
      "metadata": {
        "id": "A3gj-fuFdMbG"
      }
    },
    {
      "cell_type": "code",
      "source": [
        "import pyproj\n",
        "\n",
        "# Define the input latitude and longitude lists\n",
        "latitude_list = [29.717, -30.123, -29.999]\n",
        "longitude_list = [-95.383, -94.567, -95.789]\n",
        "\n",
        "# Define the UTM zone based on the longitude\n",
        "utm_zone = 15\n",
        "\n",
        "# Create the UTM projection based on the UTM zone\n",
        "utm_proj = pyproj.Proj(proj='utm', zone=utm_zone, ellps='WGS84')\n",
        "\n",
        "# Iterate over the coordinates and calculate +2km values\n",
        "for i in range(len(latitude_list)):\n",
        "    # Get the latitude and longitude\n",
        "    latitude = latitude_list[i]\n",
        "    longitude = longitude_list[i]\n",
        "\n",
        "    # Convert latitude and longitude to UTM coordinates\n",
        "    easting, northing = utm_proj(longitude, latitude)\n",
        "\n",
        "    # Calculate the +2km values\n",
        "    easting_plus_2km = easting + 2000\n",
        "    northing_plus_2km = northing + 2000\n",
        "\n",
        "    # Convert the +2km UTM coordinates back to latitude and longitude\n",
        "    longitude_plus_2km, latitude_plus_2km = utm_proj(easting_plus_2km, northing_plus_2km, inverse=True)\n",
        "\n",
        "    # Print the original and +2km coordinates\n",
        "    print(f\"Coordinates {i+1}: {longitude}, {latitude}\")\n",
        "    print(f\"+2km Coordinates: {longitude_plus_2km}, {latitude_plus_2km}\")\n",
        "    print()\n"
      ],
      "metadata": {
        "colab": {
          "base_uri": "https://localhost:8080/"
        },
        "id": "T-iJfQ7ud0L-",
        "outputId": "7b8aefc1-4573-46ca-a45a-1238c35d1bbb"
      },
      "execution_count": 7,
      "outputs": [
        {
          "output_type": "stream",
          "name": "stdout",
          "text": [
            "Coordinates 1: -95.383, 29.717\n",
            "+2km Coordinates: -95.36276226189948, 29.735404997853806\n",
            "\n",
            "Coordinates 2: -94.567, -30.123\n",
            "+2km Coordinates: -94.54596434380171, -30.105203747566215\n",
            "\n",
            "Coordinates 3: -95.789, -29.999\n",
            "+2km Coordinates: -95.76778748307304, -29.981409373150594\n",
            "\n"
          ]
        }
      ]
    }
  ]
}