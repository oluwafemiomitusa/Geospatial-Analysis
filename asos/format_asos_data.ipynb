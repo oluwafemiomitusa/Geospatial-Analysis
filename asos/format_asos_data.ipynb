{
 "cells": [
  {
   "cell_type": "code",
   "execution_count": 95,
   "metadata": {},
   "outputs": [],
   "source": [
    "import warnings\n",
    "import pandas as pd\n",
    "\n",
    "warnings.filterwarnings(\"ignore\")"
   ]
  },
  {
   "attachments": {},
   "cell_type": "markdown",
   "metadata": {},
   "source": [
    "# Subset data for the summer months and view data"
   ]
  },
  {
   "cell_type": "code",
   "execution_count": 96,
   "metadata": {},
   "outputs": [
    {
     "name": "stdout",
     "output_type": "stream",
     "text": [
      "                     DATE  LATITUDE  LONGITUDE  ELEVATION             WND  \\\n",
      "4918  2022-06-01T00:00:00  29.98438  -95.36072       27.5  140,1,N,0088,1   \n",
      "4919  2022-06-01T00:53:00  29.98438  -95.36072       27.5  130,1,N,0082,1   \n",
      "4920  2022-06-01T01:53:00  29.98438  -95.36072       27.5  120,1,N,0062,1   \n",
      "4921  2022-06-01T02:53:00  29.98438  -95.36072       27.5  130,1,N,0051,1   \n",
      "4922  2022-06-01T03:53:00  29.98438  -95.36072       27.5  140,1,N,0041,1   \n",
      "4923  2022-06-01T04:53:00  29.98438  -95.36072       27.5  160,1,N,0031,1   \n",
      "4924  2022-06-01T05:20:00  29.98438  -95.36072       27.5  150,1,N,0031,1   \n",
      "4925  2022-06-01T05:53:00  29.98438  -95.36072       27.5  150,1,N,0036,1   \n",
      "4926  2022-06-01T05:59:00  29.98438  -95.36072       27.5  999,9,9,9999,9   \n",
      "4927  2022-06-01T05:59:00  29.98438  -95.36072       27.5  999,9,9,9999,9   \n",
      "\n",
      "              CIG           VIS      TMP      DEW      SLP          AA1  \n",
      "4918  22000,1,9,N  016000,1,9,9  +0300,1  +0222,1  10117,1          NaN  \n",
      "4919  22000,5,9,N  016093,1,9,9  +0283,1  +0228,1  10121,1          NaN  \n",
      "4920  22000,5,9,N  016093,1,9,9  +0278,1  +0228,1  10123,1          NaN  \n",
      "4921  22000,5,9,N  016093,1,9,9  +0272,1  +0233,1  10125,1          NaN  \n",
      "4922  22000,5,9,N  016093,1,9,9  +0267,1  +0233,1  10134,1          NaN  \n",
      "4923  22000,5,9,N  016093,1,9,9  +0272,1  +0228,1  10135,1          NaN  \n",
      "4924  00549,1,9,N  016093,1,9,9  +0267,1  +0233,1  99999,9          NaN  \n",
      "4925  00610,1,9,N  016093,1,9,9  +0267,1  +0233,1  10136,1  01,0000,2,1  \n",
      "4926  99999,9,9,9  999999,9,9,9  +9999,9  +9999,9  99999,9  24,0000,9,I  \n",
      "4927  99999,9,9,9  999999,9,9,9  +9999,9  +9999,9  99999,9          NaN  \n",
      "Index(['DATE', 'LATITUDE', 'LONGITUDE', 'ELEVATION', 'WND', 'CIG', 'VIS',\n",
      "       'TMP', 'DEW', 'SLP', 'AA1'],\n",
      "      dtype='object')\n"
     ]
    }
   ],
   "source": [
    "\n",
    "df = pd.read_csv('hourly.csv')\n",
    "df['Date'] = pd.to_datetime(df['DATE'])\n",
    "df['Month'] = df['Date'].dt.month\n",
    "summer_data = df[(df['Month'] >= 6) & (df['Month'] <= 8)]\n",
    "subsetted_data = summer_data.iloc[:, [1, 3, 4, 5, 10, 11, 12, 13, 14, 15, 16]]\n",
    "print(subsetted_data.head(10))\n",
    "print(subsetted_data.columns)"
   ]
  },
  {
   "attachments": {},
   "cell_type": "markdown",
   "metadata": {},
   "source": [
    "# Format the data based on the conditions and create additional columns as necessary"
   ]
  },
  {
   "cell_type": "code",
   "execution_count": 97,
   "metadata": {},
   "outputs": [
    {
     "name": "stdout",
     "output_type": "stream",
     "text": [
      "                     DATE  LATITUDE  LONGITUDE  ELEVATION     VIS    TMP  \\\n",
      "4918  2022-06-01T00:00:00  29.98438  -95.36072       27.5  016000   30.0   \n",
      "4919  2022-06-01T00:53:00  29.98438  -95.36072       27.5  016093   28.3   \n",
      "4920  2022-06-01T01:53:00  29.98438  -95.36072       27.5  016093   27.8   \n",
      "4921  2022-06-01T02:53:00  29.98438  -95.36072       27.5  016093   27.2   \n",
      "4922  2022-06-01T03:53:00  29.98438  -95.36072       27.5  016093   26.7   \n",
      "4923  2022-06-01T04:53:00  29.98438  -95.36072       27.5  016093   27.2   \n",
      "4924  2022-06-01T05:20:00  29.98438  -95.36072       27.5  016093   26.7   \n",
      "4925  2022-06-01T05:53:00  29.98438  -95.36072       27.5  016093   26.7   \n",
      "4926  2022-06-01T05:59:00  29.98438  -95.36072       27.5       0  999.9   \n",
      "4927  2022-06-01T05:59:00  29.98438  -95.36072       27.5       0  999.9   \n",
      "\n",
      "        DEW    SLP  DIR   SPD HEIGHT_AGL PRECIP_HOURS PRECIP  \n",
      "4918   22.2  10117  140  0088      22000            0      0  \n",
      "4919   22.8  10121  130  0082      22000            0      0  \n",
      "4920   22.8  10123  120  0062      22000            0      0  \n",
      "4921   23.3  10125  130  0051      22000            0      0  \n",
      "4922   23.3  10134  140  0041      22000            0      0  \n",
      "4923   22.8  10135  160  0031      22000            0      0  \n",
      "4924   23.3      0  150  0031      00549            0      0  \n",
      "4925   23.3  10136  150  0036      00610           01   0000  \n",
      "4926  999.9      0    0     0          0           24   0000  \n",
      "4927  999.9      0    0     0          0            0      0  \n"
     ]
    }
   ],
   "source": [
    "# Split the 'WND' column into 'DIR', 'DIR_QC', 'TYPE', 'SPD', 'SPD_QC' columns\n",
    "subsetted_data[['DIR', 'DIR_QC', 'WIND_TYPE', 'SPD', 'SPD_QC']] = subsetted_data['WND'].str.split(',', expand=True)\n",
    "\n",
    "# Split the 'CIG' column into 'HEIGHT_AGL', 'HEIGHT_QC', 'UNNECESSARY_1', 'UNNECESSARY_2'\n",
    "subsetted_data[['HEIGHT_AGL', 'HEIGHT_QC', 'UNNECESSARY_1', 'UNNECESSARY_2']] = subsetted_data['CIG'].str.split(',', expand=True)\n",
    "\n",
    "# Split the 'VIS' column into 'VIS', 'VIS_QC', 'Unused1', 'Unused2' columns\n",
    "subsetted_data[['VIS', 'VIS_QC', 'Unused1', 'Unused2']] = subsetted_data['VIS'].str.split(',', expand=True)\n",
    "\n",
    "subsetted_data[['TMP', 'TMP_QC']] = subsetted_data['TMP'].str.split(',', expand=True)\n",
    "subsetted_data[['DEW', 'DEW_QC']] = subsetted_data['DEW'].str.split(',', expand=True)\n",
    "subsetted_data[['SLP', 'SLP_QC']] = subsetted_data['SLP'].str.split(',', expand=True)\n",
    "subsetted_data[['PRECIP_HOURS', 'PRECIP_AMOUNT', 'Col3', 'Col4']] = subsetted_data['AA1'].str.split(',', expand=True)\n",
    "\n",
    "# Remove the 'WND' column\n",
    "subsetted_data.drop('WND', axis=1, inplace=True)\n",
    "subsetted_data.drop('CIG', axis=1, inplace=True)\n",
    "\n",
    "# Process direction based on direction quality code\n",
    "subsetted_data.loc[subsetted_data['DIR_QC'].isin(['2', '3', '6', '7']), 'DIR'] = '999'\n",
    "subsetted_data.drop('DIR_QC', axis=1, inplace=True)\n",
    "\n",
    "# Process speed based on speed quality code\n",
    "subsetted_data.loc[subsetted_data['SPD_QC'].isin(['2', '3', '6', '7']), 'SPD'] = '999'\n",
    "subsetted_data.drop('SPD_QC', axis=1, inplace=True)\n",
    "subsetted_data.drop('WIND_TYPE', axis=1, inplace=True)\n",
    "subsetted_data.drop('UNNECESSARY_1', axis=1, inplace=True)\n",
    "subsetted_data.drop('UNNECESSARY_2', axis=1, inplace=True)\n",
    "\n",
    "# Process height AGL based on height quality code\n",
    "subsetted_data.loc[subsetted_data['HEIGHT_QC'].isin(['2', '3', '6', '7']), 'HEIGHT_AGL'] = '99999'\n",
    "subsetted_data.drop('HEIGHT_QC', axis=1, inplace=True)\n",
    "\n",
    "# Process visibility based on visibility quality code\n",
    "subsetted_data.loc[subsetted_data['VIS_QC'].isin(['2', '3', '6', '7']), 'VIS'] = '999999'\n",
    "subsetted_data.drop('VIS_QC', axis=1, inplace=True)\n",
    "subsetted_data.drop('Unused1', axis=1, inplace=True)\n",
    "subsetted_data.drop('Unused2', axis=1, inplace=True)\n",
    "\n",
    "subsetted_data.loc[subsetted_data['TMP_QC'].isin(['2', '3', '6', '7']), 'TMP'] = '9999'\n",
    "subsetted_data.drop('TMP_QC', axis=1, inplace=True)\n",
    "subsetted_data['TMP'] = pd.to_numeric(subsetted_data['TMP'], errors='coerce') / 10\n",
    "\n",
    "\n",
    "subsetted_data.loc[subsetted_data['DEW_QC'].isin(['2', '3', '6', '7']), 'DEW'] = '9999'\n",
    "subsetted_data.drop('DEW_QC', axis=1, inplace=True)\n",
    "subsetted_data['DEW'] = pd.to_numeric(subsetted_data['DEW'], errors='coerce') / 10\n",
    "\n",
    "\n",
    "subsetted_data.loc[subsetted_data['SLP_QC'].isin(['2', '3', '6', '7']), 'SLP'] = '99999'\n",
    "subsetted_data.drop('SLP_QC', axis=1, inplace=True)\n",
    "\n",
    "subsetted_data.loc[subsetted_data['Col4'].isin(['2', '3', '6', '7']), 'PRECIP_AMOUNT'] = '0'\n",
    "subsetted_data.drop(['Col3', 'Col4', 'AA1'], axis=1, inplace=True)\n",
    "subsetted_data.rename(columns={'PRECIP_AMOUNT': 'PRECIP'}, inplace=True)\n",
    "\n",
    "# Replace NaN values with 9999\n",
    "subsetted_data['PRECIP'].fillna(0, inplace=True)\n",
    "subsetted_data['PRECIP_HOURS'].fillna(00, inplace=True)\n",
    "\n",
    "final = subsetted_data.replace(to_replace=r'^999.*', value=0, regex=True)\n",
    "\n",
    "final.to_csv('summer.csv', index=False)\n",
    "\n",
    "# Display the modified DataFrame\n",
    "print(final.head(10))"
   ]
  },
  {
   "cell_type": "code",
   "execution_count": 99,
   "metadata": {},
   "outputs": [],
   "source": [
    "import pandas as pd\n",
    "\n",
    "df = pd.read_csv('summer.csv')\n",
    "\n",
    "# Assuming you have a pandas DataFrame called \"df\" with columns VIS, TMP, DEW, SLP, DIR, and SPD\n",
    "\n",
    "# Convert the columns to string data type\n",
    "df['VIS'] = df['VIS'].astype(str)\n",
    "df['TMP'] = df['TMP'].astype(str)\n",
    "df['DEW'] = df['DEW'].astype(str)\n",
    "df['SLP'] = df['SLP'].astype(str)\n",
    "df['DIR'] = df['DIR'].astype(str)\n",
    "df['SPD'] = df['SPD'].astype(str)\n",
    "\n",
    "# Filter the rows based on the conditions and delete them\n",
    "df = df[~((df['VIS'] == '0') | (df['VIS'].str.startswith('999'))) |\n",
    "        ~((df['TMP'] == '0') | (df['TMP'].str.startswith('999'))) |\n",
    "        ~((df['DEW'] == '0') | (df['DEW'].str.startswith('999'))) |\n",
    "        ~((df['SLP'] == '0') | (df['SLP'].str.startswith('999'))) |\n",
    "        ~((df['DIR'] == '0') | (df['DIR'].str.startswith('999'))) |\n",
    "        ~((df['SPD'] == '0') | (df['SPD'].str.startswith('999')))]\n",
    "\n",
    "# Drop any remaining rows that have missing values in any of the specified columns\n",
    "df = df.dropna(subset=['VIS', 'TMP', 'DEW', 'SLP', 'DIR', 'SPD'])\n",
    "\n",
    "# Reset the index if needed\n",
    "df = df.reset_index(drop=True)\n",
    "\n",
    "# Save the updated DataFrame\n",
    "df.to_csv('summer.csv', index=False)\n"
   ]
  }
 ],
 "metadata": {
  "kernelspec": {
   "display_name": "metstat",
   "language": "python",
   "name": "python3"
  },
  "language_info": {
   "codemirror_mode": {
    "name": "ipython",
    "version": 3
   },
   "file_extension": ".py",
   "mimetype": "text/x-python",
   "name": "python",
   "nbconvert_exporter": "python",
   "pygments_lexer": "ipython3",
   "version": "3.10.10"
  },
  "orig_nbformat": 4
 },
 "nbformat": 4,
 "nbformat_minor": 2
}
