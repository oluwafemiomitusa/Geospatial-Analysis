{
 "cells": [
  {
   "cell_type": "code",
   "execution_count": 2,
   "metadata": {},
   "outputs": [],
   "source": [
    "import warnings\n",
    "import pandas as pd\n",
    "\n",
    "warnings.filterwarnings(\"ignore\")\n"
   ]
  },
  {
   "attachments": {},
   "cell_type": "markdown",
   "metadata": {},
   "source": [
    "# Subset data for the summer months and visualize"
   ]
  },
  {
   "cell_type": "code",
   "execution_count": 41,
   "metadata": {},
   "outputs": [
    {
     "name": "stdout",
     "output_type": "stream",
     "text": [
      "                     DATE  LATITUDE  LONGITUDE  ELEVATION             WND  \\\n",
      "4918  2022-06-01T00:00:00  29.98438  -95.36072       27.5  140,1,N,0088,1   \n",
      "4919  2022-06-01T00:53:00  29.98438  -95.36072       27.5  130,1,N,0082,1   \n",
      "4920  2022-06-01T01:53:00  29.98438  -95.36072       27.5  120,1,N,0062,1   \n",
      "4921  2022-06-01T02:53:00  29.98438  -95.36072       27.5  130,1,N,0051,1   \n",
      "4922  2022-06-01T03:53:00  29.98438  -95.36072       27.5  140,1,N,0041,1   \n",
      "4923  2022-06-01T04:53:00  29.98438  -95.36072       27.5  160,1,N,0031,1   \n",
      "4924  2022-06-01T05:20:00  29.98438  -95.36072       27.5  150,1,N,0031,1   \n",
      "4925  2022-06-01T05:53:00  29.98438  -95.36072       27.5  150,1,N,0036,1   \n",
      "4926  2022-06-01T05:59:00  29.98438  -95.36072       27.5  999,9,9,9999,9   \n",
      "4927  2022-06-01T05:59:00  29.98438  -95.36072       27.5  999,9,9,9999,9   \n",
      "\n",
      "              CIG           VIS      TMP      DEW      SLP          AA1  \n",
      "4918  22000,1,9,N  016000,1,9,9  +0300,1  +0222,1  10117,1          NaN  \n",
      "4919  22000,5,9,N  016093,1,9,9  +0283,1  +0228,1  10121,1          NaN  \n",
      "4920  22000,5,9,N  016093,1,9,9  +0278,1  +0228,1  10123,1          NaN  \n",
      "4921  22000,5,9,N  016093,1,9,9  +0272,1  +0233,1  10125,1          NaN  \n",
      "4922  22000,5,9,N  016093,1,9,9  +0267,1  +0233,1  10134,1          NaN  \n",
      "4923  22000,5,9,N  016093,1,9,9  +0272,1  +0228,1  10135,1          NaN  \n",
      "4924  00549,1,9,N  016093,1,9,9  +0267,1  +0233,1  99999,9          NaN  \n",
      "4925  00610,1,9,N  016093,1,9,9  +0267,1  +0233,1  10136,1  01,0000,2,1  \n",
      "4926  99999,9,9,9  999999,9,9,9  +9999,9  +9999,9  99999,9  24,0000,9,I  \n",
      "4927  99999,9,9,9  999999,9,9,9  +9999,9  +9999,9  99999,9          NaN  \n",
      "Index(['DATE', 'LATITUDE', 'LONGITUDE', 'ELEVATION', 'WND', 'CIG', 'VIS',\n",
      "       'TMP', 'DEW', 'SLP', 'AA1'],\n",
      "      dtype='object')\n"
     ]
    }
   ],
   "source": [
    "\n",
    "df = pd.read_csv('hourly.csv')\n",
    "df['Date'] = pd.to_datetime(df['DATE'])\n",
    "df['Month'] = df['Date'].dt.month\n",
    "summer_data = df[(df['Month'] >= 6) & (df['Month'] <= 8)]\n",
    "subsetted_data = summer_data.iloc[:, [1, 3, 4, 5, 10, 11, 12, 13, 14, 15, 16]]\n",
    "print(subsetted_data.head(10))\n",
    "print(subsetted_data.columns)"
   ]
  },
  {
   "attachments": {},
   "cell_type": "markdown",
   "metadata": {},
   "source": [
    "# Format the data based on the conditions and create additional columns a necessary"
   ]
  },
  {
   "cell_type": "code",
   "execution_count": 42,
   "metadata": {},
   "outputs": [
    {
     "name": "stdout",
     "output_type": "stream",
     "text": [
      "                     DATE  LATITUDE  LONGITUDE  ELEVATION     VIS    TMP  \\\n",
      "4918  2022-06-01T00:00:00  29.98438  -95.36072       27.5  016000  +0300   \n",
      "4919  2022-06-01T00:53:00  29.98438  -95.36072       27.5  016093  +0283   \n",
      "4920  2022-06-01T01:53:00  29.98438  -95.36072       27.5  016093  +0278   \n",
      "4921  2022-06-01T02:53:00  29.98438  -95.36072       27.5  016093  +0272   \n",
      "4922  2022-06-01T03:53:00  29.98438  -95.36072       27.5  016093  +0267   \n",
      "4923  2022-06-01T04:53:00  29.98438  -95.36072       27.5  016093  +0272   \n",
      "4924  2022-06-01T05:20:00  29.98438  -95.36072       27.5  016093  +0267   \n",
      "4925  2022-06-01T05:53:00  29.98438  -95.36072       27.5  016093  +0267   \n",
      "4926  2022-06-01T05:59:00  29.98438  -95.36072       27.5  999999  +9999   \n",
      "4927  2022-06-01T05:59:00  29.98438  -95.36072       27.5  999999  +9999   \n",
      "\n",
      "        DEW    SLP  DIR   SPD HEIGHT_AGL PRECIP_HOURS PRECIP  \n",
      "4918  +0222  10117  140  0088      22000            0      0  \n",
      "4919  +0228  10121  130  0082      22000            0      0  \n",
      "4920  +0228  10123  120  0062      22000            0      0  \n",
      "4921  +0233  10125  130  0051      22000            0      0  \n",
      "4922  +0233  10134  140  0041      22000            0      0  \n",
      "4923  +0228  10135  160  0031      22000            0      0  \n",
      "4924  +0233  99999  150  0031      00549            0      0  \n",
      "4925  +0233  10136  150  0036      00610           01   0000  \n",
      "4926  +9999  99999  999  9999      99999           24   0000  \n",
      "4927  +9999  99999  999  9999      99999            0      0  \n"
     ]
    }
   ],
   "source": [
    "# Split the 'WND' column into 'DIR', 'DIR_QC', 'TYPE', 'SPD', 'SPD_QC' columns\n",
    "subsetted_data[['DIR', 'DIR_QC', 'WIND_TYPE', 'SPD', 'SPD_QC']] = subsetted_data['WND'].str.split(',', expand=True)\n",
    "\n",
    "# Split the 'CIG' column into 'HEIGHT_AGL', 'HEIGHT_QC', 'UNNECESSARY_1', 'UNNECESSARY_2'\n",
    "subsetted_data[['HEIGHT_AGL', 'HEIGHT_QC', 'UNNECESSARY_1', 'UNNECESSARY_2']] = subsetted_data['CIG'].str.split(',', expand=True)\n",
    "\n",
    "# Split the 'VIS' column into 'VIS', 'VIS_QC', 'Unused1', 'Unused2' columns\n",
    "subsetted_data[['VIS', 'VIS_QC', 'Unused1', 'Unused2']] = subsetted_data['VIS'].str.split(',', expand=True)\n",
    "\n",
    "subsetted_data[['TMP', 'TMP_QC']] = subsetted_data['TMP'].str.split(',', expand=True)\n",
    "subsetted_data[['DEW', 'DEW_QC']] = subsetted_data['DEW'].str.split(',', expand=True)\n",
    "subsetted_data[['SLP', 'SLP_QC']] = subsetted_data['SLP'].str.split(',', expand=True)\n",
    "subsetted_data[['PRECIP_HOURS', 'PRECIP_AMOUNT', 'Col3', 'Col4']] = subsetted_data['AA1'].str.split(',', expand=True)\n",
    "\n",
    "# Remove the 'WND' column\n",
    "subsetted_data.drop('WND', axis=1, inplace=True)\n",
    "subsetted_data.drop('CIG', axis=1, inplace=True)\n",
    "\n",
    "# Process direction based on direction quality code\n",
    "subsetted_data.loc[subsetted_data['DIR_QC'].isin(['2', '3', '6', '7']), 'DIR'] = '999'\n",
    "subsetted_data.drop('DIR_QC', axis=1, inplace=True)\n",
    "\n",
    "# Process speed based on speed quality code\n",
    "subsetted_data.loc[subsetted_data['SPD_QC'].isin(['2', '3', '6', '7']), 'SPD'] = '999'\n",
    "subsetted_data.drop('SPD_QC', axis=1, inplace=True)\n",
    "subsetted_data.drop('WIND_TYPE', axis=1, inplace=True)\n",
    "subsetted_data.drop('UNNECESSARY_1', axis=1, inplace=True)\n",
    "subsetted_data.drop('UNNECESSARY_2', axis=1, inplace=True)\n",
    "\n",
    "# Process height AGL based on height quality code\n",
    "subsetted_data.loc[subsetted_data['HEIGHT_QC'].isin(['2', '3', '6', '7']), 'HEIGHT_AGL'] = '99999'\n",
    "subsetted_data.drop('HEIGHT_QC', axis=1, inplace=True)\n",
    "\n",
    "# Process visibility based on visibility quality code\n",
    "subsetted_data.loc[subsetted_data['VIS_QC'].isin(['2', '3', '6', '7']), 'VIS'] = '999999'\n",
    "subsetted_data.drop('VIS_QC', axis=1, inplace=True)\n",
    "subsetted_data.drop('Unused1', axis=1, inplace=True)\n",
    "subsetted_data.drop('Unused2', axis=1, inplace=True)\n",
    "\n",
    "subsetted_data.loc[subsetted_data['TMP_QC'].isin(['2', '3', '6', '7']), 'TMP'] = '9999'\n",
    "subsetted_data.drop('TMP_QC', axis=1, inplace=True)\n",
    "\n",
    "subsetted_data.loc[subsetted_data['DEW_QC'].isin(['2', '3', '6', '7']), 'DEW'] = '9999'\n",
    "subsetted_data.drop('DEW_QC', axis=1, inplace=True)\n",
    "\n",
    "subsetted_data.loc[subsetted_data['SLP_QC'].isin(['2', '3', '6', '7']), 'SLP'] = '99999'\n",
    "subsetted_data.drop('SLP_QC', axis=1, inplace=True)\n",
    "\n",
    "subsetted_data.loc[subsetted_data['Col4'].isin(['2', '3', '6', '7']), 'PRECIP_AMOUNT'] = '0'\n",
    "subsetted_data.drop(['Col3', 'Col4', 'AA1'], axis=1, inplace=True)\n",
    "subsetted_data.rename(columns={'PRECIP_AMOUNT': 'PRECIP'}, inplace=True)\n",
    "\n",
    "# Replace NaN values with 9999\n",
    "subsetted_data['PRECIP'].fillna(0, inplace=True)\n",
    "subsetted_data['PRECIP_HOURS'].fillna(00, inplace=True)\n",
    "\n",
    "# Display the modified DataFrame\n",
    "print(subsetted_data.head(10))"
   ]
  }
 ],
 "metadata": {
  "kernelspec": {
   "display_name": "metstat",
   "language": "python",
   "name": "python3"
  },
  "language_info": {
   "codemirror_mode": {
    "name": "ipython",
    "version": 3
   },
   "file_extension": ".py",
   "mimetype": "text/x-python",
   "name": "python",
   "nbconvert_exporter": "python",
   "pygments_lexer": "ipython3",
   "version": "3.10.10"
  },
  "orig_nbformat": 4
 },
 "nbformat": 4,
 "nbformat_minor": 2
}
