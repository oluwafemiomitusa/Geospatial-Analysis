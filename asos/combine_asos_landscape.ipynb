{
 "cells": [
  {
   "cell_type": "code",
   "execution_count": 4,
   "metadata": {},
   "outputs": [],
   "source": [
    "import pandas as pd\n",
    "import os\n",
    "\n",
    "# Load the spatial data\n",
    "spatial_data = pd.read_csv('combined_data.csv')\n",
    "\n",
    "# Initialize an empty dataframe to store all merged data\n",
    "all_data = pd.DataFrame()\n",
    "\n",
    "# Get a list of all CSV files in the current directory\n",
    "files = [f for f in os.listdir() if f.startswith('station') and f.endswith('.csv')]\n",
    "\n",
    "# Process each file\n",
    "for file in files:\n",
    "    # Extract the station number from the file name\n",
    "    station_number = int(file.replace('station', '').replace('.csv', ''))\n",
    "\n",
    "    # Load the temporal data\n",
    "    temporal_data = pd.read_csv(file)\n",
    "\n",
    "    # Add a new column \"Station\" to the temporal data and set its value to the station number\n",
    "    temporal_data['Station'] = station_number\n",
    "\n",
    "    # Merge the spatial and temporal data on the \"Station\" column\n",
    "    merged_data = pd.merge(spatial_data, temporal_data, on=\"Station\")\n",
    "\n",
    "    # Append the merged data to the main dataframe\n",
    "    all_data = pd.concat([all_data, merged_data], ignore_index=True)\n",
    "\n",
    "# Save the all_data dataframe to a CSV file\n",
    "all_data.to_csv('../ML_Data/combined.csv', index=False)\n"
   ]
  }
 ],
 "metadata": {
  "kernelspec": {
   "display_name": "metstat",
   "language": "python",
   "name": "python3"
  },
  "language_info": {
   "codemirror_mode": {
    "name": "ipython",
    "version": 3
   },
   "file_extension": ".py",
   "mimetype": "text/x-python",
   "name": "python",
   "nbconvert_exporter": "python",
   "pygments_lexer": "ipython3",
   "version": "3.10.10"
  },
  "orig_nbformat": 4
 },
 "nbformat": 4,
 "nbformat_minor": 2
}
